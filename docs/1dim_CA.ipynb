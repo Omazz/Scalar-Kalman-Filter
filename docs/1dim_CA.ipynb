{
 "cells": [
  {
   "cell_type": "code",
   "execution_count": 1,
   "id": "2f25c471-6e60-416d-af40-c7b88a14edc3",
   "metadata": {},
   "outputs": [],
   "source": [
    "import sympy as sp\n",
    "import IPython.display as display\n",
    "import nbconvert as nbc"
   ]
  },
  {
   "cell_type": "markdown",
   "id": "9c0015b2-5670-4d1b-81aa-8b4124520097",
   "metadata": {},
   "source": [
    "# CA: Measurement contains only measured value (without velocity or acceleration)"
   ]
  },
  {
   "cell_type": "code",
   "execution_count": 2,
   "id": "1580d647-3533-40fb-b882-0a3c9db10621",
   "metadata": {},
   "outputs": [],
   "source": [
    "x, v, a, x_meas, dt = sp.symbols('x V a x_meas dt')\n",
    "\n",
    "r_x = sp.symbols('r_x') # R\n",
    "\n",
    "q_j = sp.symbols('q_j') # Q\n",
    "\n",
    "p11, p12, p13, p21, p22, p23, p31, p32, p33 \\\n",
    "    = sp.symbols(\"p_11 p_12 p_13 p_21 p_22 p_23 p_31 p_32 p_33\")\n",
    "\n",
    "q11, q12, q13, q21, q22, q23, q31, q32, q33 \\\n",
    "    = sp.symbols(\"q_11 q_12 q_13 q_21 q_22 q_23 q_31 q_32 q_33\")\n",
    "\n",
    "k11, k12, k13 \\\n",
    "    = sp.symbols(\"k_11 k_12 k_13\")\n",
    "\n",
    "I = sp.Matrix([[ 1, 0, 0],\n",
    "               [ 0, 1, 0],\n",
    "               [ 0, 0, 1]])"
   ]
  },
  {
   "cell_type": "code",
   "execution_count": 3,
   "id": "997416ec-f302-4f08-af6f-4b7fdf680e38",
   "metadata": {},
   "outputs": [
    {
     "data": {
      "text/latex": [
       "$\\displaystyle \\left[\\begin{matrix}\\frac{dt^{6} q_{j}}{36} & \\frac{dt^{5} q_{j}}{12} & \\frac{dt^{4} q_{j}}{6}\\\\\\frac{dt^{5} q_{j}}{12} & \\frac{dt^{4} q_{j}}{4} & \\frac{dt^{3} q_{j}}{2}\\\\\\frac{dt^{4} q_{j}}{6} & \\frac{dt^{3} q_{j}}{2} & dt^{2} q_{j}\\end{matrix}\\right]$"
      ],
      "text/plain": [
       "Matrix([\n",
       "[dt**6*q_j/36, dt**5*q_j/12, dt**4*q_j/6],\n",
       "[dt**5*q_j/12,  dt**4*q_j/4, dt**3*q_j/2],\n",
       "[ dt**4*q_j/6,  dt**3*q_j/2,   dt**2*q_j]])"
      ]
     },
     "execution_count": 3,
     "metadata": {},
     "output_type": "execute_result"
    }
   ],
   "source": [
    "X = sp.Matrix([[ x ],\n",
    "               [ v ],\n",
    "               [ a ]])\n",
    "\n",
    "Z = sp.Matrix([[ x_meas ]])\n",
    "\n",
    "H = sp.Matrix([[ 1, 0, 0 ]])\n",
    "\n",
    "F = sp.Matrix([[ 1, dt, dt**2/2 ],\n",
    "               [ 0,  1,    dt ],\n",
    "               [ 0,  0,     1 ]])\n",
    "\n",
    "G = sp.Matrix([[ dt**3/6 ],\n",
    "               [ dt**2/2 ],\n",
    "               [   dt    ] ])\n",
    "\n",
    "R = sp.Matrix([[ r_x ]])\n",
    "\n",
    "P = sp.Matrix([[ p11, p12, p13 ],\n",
    "               [ p21, p22, p23 ],\n",
    "               [ p31, p32, p33 ]])\n",
    "\n",
    "Q = G * G.T * q_j\n",
    "Q"
   ]
  },
  {
   "cell_type": "code",
   "execution_count": 4,
   "id": "e040e9ca-134e-462c-8241-e1688aaa6081",
   "metadata": {},
   "outputs": [
    {
     "data": {
      "text/latex": [
       "$\\displaystyle q_{11} = \\frac{dt^{6} q_{j}}{36}$"
      ],
      "text/plain": [
       "Eq(q_11, dt**6*q_j/36)"
      ]
     },
     "execution_count": 4,
     "metadata": {},
     "output_type": "execute_result"
    }
   ],
   "source": [
    "sp.Eq(q11, Q[0,0])"
   ]
  },
  {
   "cell_type": "code",
   "execution_count": 5,
   "id": "b5bbabad-8259-46b6-bd67-2c9582277992",
   "metadata": {},
   "outputs": [
    {
     "data": {
      "text/latex": [
       "$\\displaystyle q_{12} = \\frac{dt^{5} q_{j}}{12}$"
      ],
      "text/plain": [
       "Eq(q_12, dt**5*q_j/12)"
      ]
     },
     "execution_count": 5,
     "metadata": {},
     "output_type": "execute_result"
    }
   ],
   "source": [
    "sp.Eq(q12, Q[0,1])"
   ]
  },
  {
   "cell_type": "code",
   "execution_count": 6,
   "id": "80878fb3-e623-4b11-8d1c-88ad12dde06d",
   "metadata": {},
   "outputs": [
    {
     "data": {
      "text/latex": [
       "$\\displaystyle q_{13} = \\frac{dt^{4} q_{j}}{6}$"
      ],
      "text/plain": [
       "Eq(q_13, dt**4*q_j/6)"
      ]
     },
     "execution_count": 6,
     "metadata": {},
     "output_type": "execute_result"
    }
   ],
   "source": [
    "sp.Eq(q13, Q[0,2])"
   ]
  },
  {
   "cell_type": "code",
   "execution_count": 7,
   "id": "31894bf6-bb86-4b74-bfb2-0597c942c233",
   "metadata": {},
   "outputs": [
    {
     "data": {
      "text/latex": [
       "$\\displaystyle q_{21} = \\frac{dt^{5} q_{j}}{12}$"
      ],
      "text/plain": [
       "Eq(q_21, dt**5*q_j/12)"
      ]
     },
     "execution_count": 7,
     "metadata": {},
     "output_type": "execute_result"
    }
   ],
   "source": [
    "sp.Eq(q21, Q[1,0])"
   ]
  },
  {
   "cell_type": "code",
   "execution_count": 8,
   "id": "97aae1ca-8b08-4bcd-82ce-574a8adaad00",
   "metadata": {},
   "outputs": [
    {
     "data": {
      "text/latex": [
       "$\\displaystyle q_{22} = \\frac{dt^{4} q_{j}}{4}$"
      ],
      "text/plain": [
       "Eq(q_22, dt**4*q_j/4)"
      ]
     },
     "execution_count": 8,
     "metadata": {},
     "output_type": "execute_result"
    }
   ],
   "source": [
    "sp.Eq(q22, Q[1,1])"
   ]
  },
  {
   "cell_type": "code",
   "execution_count": 9,
   "id": "73ac6154-2e31-4c00-9b80-6a939cb3d919",
   "metadata": {},
   "outputs": [
    {
     "data": {
      "text/latex": [
       "$\\displaystyle q_{23} = \\frac{dt^{3} q_{j}}{2}$"
      ],
      "text/plain": [
       "Eq(q_23, dt**3*q_j/2)"
      ]
     },
     "execution_count": 9,
     "metadata": {},
     "output_type": "execute_result"
    }
   ],
   "source": [
    "sp.Eq(q23, Q[1,2])"
   ]
  },
  {
   "cell_type": "code",
   "execution_count": 10,
   "id": "aab46b6d-dfef-4314-91e5-5aed3ecf6f0c",
   "metadata": {},
   "outputs": [
    {
     "data": {
      "text/latex": [
       "$\\displaystyle q_{31} = \\frac{dt^{4} q_{j}}{6}$"
      ],
      "text/plain": [
       "Eq(q_31, dt**4*q_j/6)"
      ]
     },
     "execution_count": 10,
     "metadata": {},
     "output_type": "execute_result"
    }
   ],
   "source": [
    "sp.Eq(q31, Q[2,0])"
   ]
  },
  {
   "cell_type": "code",
   "execution_count": 11,
   "id": "fca80050-10af-4848-b0e3-f73ec08ef589",
   "metadata": {},
   "outputs": [
    {
     "data": {
      "text/latex": [
       "$\\displaystyle q_{32} = \\frac{dt^{3} q_{j}}{2}$"
      ],
      "text/plain": [
       "Eq(q_32, dt**3*q_j/2)"
      ]
     },
     "execution_count": 11,
     "metadata": {},
     "output_type": "execute_result"
    }
   ],
   "source": [
    "sp.Eq(q32, Q[2,1])"
   ]
  },
  {
   "cell_type": "code",
   "execution_count": 12,
   "id": "ab836740-6bb9-45ce-89ae-eab6ab255d43",
   "metadata": {},
   "outputs": [
    {
     "data": {
      "text/latex": [
       "$\\displaystyle q_{33} = dt^{2} q_{j}$"
      ],
      "text/plain": [
       "Eq(q_33, dt**2*q_j)"
      ]
     },
     "execution_count": 12,
     "metadata": {},
     "output_type": "execute_result"
    }
   ],
   "source": [
    "sp.Eq(q33, Q[2,2])"
   ]
  },
  {
   "cell_type": "code",
   "execution_count": 13,
   "id": "45ba2033-e7ff-410f-865d-8a40f61a3b0f",
   "metadata": {},
   "outputs": [
    {
     "data": {
      "text/latex": [
       "$\\displaystyle \\left[\\begin{matrix}q_{11} & q_{12} & q_{13}\\\\q_{21} & q_{22} & q_{23}\\\\q_{31} & q_{32} & q_{33}\\end{matrix}\\right]$"
      ],
      "text/plain": [
       "Matrix([\n",
       "[q_11, q_12, q_13],\n",
       "[q_21, q_22, q_23],\n",
       "[q_31, q_32, q_33]])"
      ]
     },
     "execution_count": 13,
     "metadata": {},
     "output_type": "execute_result"
    }
   ],
   "source": [
    "Q = sp.Matrix([[ q11, q12, q13 ],\n",
    "               [ q21, q22, q23 ],\n",
    "               [ q31, q32, q33 ]])\n",
    "Q"
   ]
  },
  {
   "cell_type": "code",
   "execution_count": 14,
   "id": "2b156977-5d14-43c5-92b8-3ff96f594699",
   "metadata": {},
   "outputs": [
    {
     "data": {
      "text/latex": [
       "$\\displaystyle \\left[\\begin{matrix}p_{11} & p_{12} & p_{13}\\\\p_{21} & p_{22} & p_{23}\\\\p_{31} & p_{32} & p_{33}\\end{matrix}\\right]$"
      ],
      "text/plain": [
       "Matrix([\n",
       "[p_11, p_12, p_13],\n",
       "[p_21, p_22, p_23],\n",
       "[p_31, p_32, p_33]])"
      ]
     },
     "execution_count": 14,
     "metadata": {},
     "output_type": "execute_result"
    }
   ],
   "source": [
    "P"
   ]
  },
  {
   "cell_type": "code",
   "execution_count": 15,
   "id": "9e06b62f-9939-47ae-b115-08d847cbeeda",
   "metadata": {},
   "outputs": [
    {
     "data": {
      "text/latex": [
       "$\\displaystyle \\left[\\begin{matrix}r_{x}\\end{matrix}\\right]$"
      ],
      "text/plain": [
       "Matrix([[r_x]])"
      ]
     },
     "execution_count": 15,
     "metadata": {},
     "output_type": "execute_result"
    }
   ],
   "source": [
    "R"
   ]
  },
  {
   "cell_type": "code",
   "execution_count": 16,
   "id": "bdaf1645-52da-4630-8c10-62db4dda8bf2",
   "metadata": {},
   "outputs": [
    {
     "data": {
      "text/latex": [
       "$\\displaystyle \\left[\\begin{matrix}x\\\\V\\\\a\\end{matrix}\\right]$"
      ],
      "text/plain": [
       "Matrix([\n",
       "[x],\n",
       "[V],\n",
       "[a]])"
      ]
     },
     "execution_count": 16,
     "metadata": {},
     "output_type": "execute_result"
    }
   ],
   "source": [
    "X"
   ]
  },
  {
   "cell_type": "code",
   "execution_count": 17,
   "id": "53bb5dfa-e9df-4fe0-a326-c0375371cd95",
   "metadata": {},
   "outputs": [
    {
     "data": {
      "text/latex": [
       "$\\displaystyle \\left[\\begin{matrix}x_{meas}\\end{matrix}\\right]$"
      ],
      "text/plain": [
       "Matrix([[x_meas]])"
      ]
     },
     "execution_count": 17,
     "metadata": {},
     "output_type": "execute_result"
    }
   ],
   "source": [
    "Z"
   ]
  },
  {
   "cell_type": "code",
   "execution_count": 18,
   "id": "0ba7160b-a282-4ed0-ab50-4b7426b9720a",
   "metadata": {},
   "outputs": [
    {
     "data": {
      "text/latex": [
       "$\\displaystyle \\left[\\begin{matrix}1 & 0 & 0\\end{matrix}\\right]$"
      ],
      "text/plain": [
       "Matrix([[1, 0, 0]])"
      ]
     },
     "execution_count": 18,
     "metadata": {},
     "output_type": "execute_result"
    }
   ],
   "source": [
    "H"
   ]
  },
  {
   "cell_type": "markdown",
   "id": "e2f07e6a-11f8-470f-ae9b-baf158f51a72",
   "metadata": {},
   "source": [
    "# Prediction"
   ]
  },
  {
   "cell_type": "code",
   "execution_count": 19,
   "id": "28de2a4d-8d50-4866-a4bc-356c7bb043b9",
   "metadata": {},
   "outputs": [
    {
     "data": {
      "text/latex": [
       "$\\displaystyle \\left[\\begin{matrix}V dt + \\frac{a dt^{2}}{2} + x\\\\V + a dt\\\\a\\end{matrix}\\right]$"
      ],
      "text/plain": [
       "Matrix([\n",
       "[V*dt + a*dt**2/2 + x],\n",
       "[            V + a*dt],\n",
       "[                   a]])"
      ]
     },
     "execution_count": 19,
     "metadata": {},
     "output_type": "execute_result"
    }
   ],
   "source": [
    "X = F @ X\n",
    "X"
   ]
  },
  {
   "cell_type": "code",
   "execution_count": 20,
   "id": "521c2933-638a-43ab-9940-28f53defeec3",
   "metadata": {},
   "outputs": [
    {
     "data": {
      "text/latex": [
       "$\\displaystyle \\left[\\begin{matrix}\\frac{dt^{2} p_{31}}{2} + \\frac{dt^{2} \\left(\\frac{dt^{2} p_{33}}{2} + dt p_{23} + p_{13}\\right)}{2} + dt p_{21} + dt \\left(\\frac{dt^{2} p_{32}}{2} + dt p_{22} + p_{12}\\right) + p_{11} + q_{11} & \\frac{dt^{2} p_{32}}{2} + dt p_{22} + dt \\left(\\frac{dt^{2} p_{33}}{2} + dt p_{23} + p_{13}\\right) + p_{12} + q_{12} & \\frac{dt^{2} p_{33}}{2} + dt p_{23} + p_{13} + q_{13}\\\\\\frac{dt^{2} \\left(dt p_{33} + p_{23}\\right)}{2} + dt p_{31} + dt \\left(dt p_{32} + p_{22}\\right) + p_{21} + q_{21} & dt p_{32} + dt \\left(dt p_{33} + p_{23}\\right) + p_{22} + q_{22} & dt p_{33} + p_{23} + q_{23}\\\\\\frac{dt^{2} p_{33}}{2} + dt p_{32} + p_{31} + q_{31} & dt p_{33} + p_{32} + q_{32} & p_{33} + q_{33}\\end{matrix}\\right]$"
      ],
      "text/plain": [
       "Matrix([\n",
       "[dt**2*p_31/2 + dt**2*(dt**2*p_33/2 + dt*p_23 + p_13)/2 + dt*p_21 + dt*(dt**2*p_32/2 + dt*p_22 + p_12) + p_11 + q_11, dt**2*p_32/2 + dt*p_22 + dt*(dt**2*p_33/2 + dt*p_23 + p_13) + p_12 + q_12, dt**2*p_33/2 + dt*p_23 + p_13 + q_13],\n",
       "[                                             dt**2*(dt*p_33 + p_23)/2 + dt*p_31 + dt*(dt*p_32 + p_22) + p_21 + q_21,                               dt*p_32 + dt*(dt*p_33 + p_23) + p_22 + q_22,                dt*p_33 + p_23 + q_23],\n",
       "[                                                                               dt**2*p_33/2 + dt*p_32 + p_31 + q_31,                                                     dt*p_33 + p_32 + q_32,                          p_33 + q_33]])"
      ]
     },
     "execution_count": 20,
     "metadata": {},
     "output_type": "execute_result"
    }
   ],
   "source": [
    "P = F @ P @ F.T + Q\n",
    "P"
   ]
  },
  {
   "cell_type": "code",
   "execution_count": 21,
   "id": "7f18a18d-70a3-4a62-965a-70f4e8a01291",
   "metadata": {},
   "outputs": [
    {
     "data": {
      "text/latex": [
       "$\\displaystyle p_{11} = \\frac{dt^{2} p_{31}}{2} + \\frac{dt^{2} \\left(\\frac{dt^{2} p_{33}}{2} + dt p_{23} + p_{13}\\right)}{2} + dt p_{21} + dt \\left(\\frac{dt^{2} p_{32}}{2} + dt p_{22} + p_{12}\\right) + p_{11} + q_{11}$"
      ],
      "text/plain": [
       "Eq(p_11, dt**2*p_31/2 + dt**2*(dt**2*p_33/2 + dt*p_23 + p_13)/2 + dt*p_21 + dt*(dt**2*p_32/2 + dt*p_22 + p_12) + p_11 + q_11)"
      ]
     },
     "execution_count": 21,
     "metadata": {},
     "output_type": "execute_result"
    }
   ],
   "source": [
    "sp.Eq(p11, P[0,0])"
   ]
  },
  {
   "cell_type": "code",
   "execution_count": 22,
   "id": "5459416c-4259-4371-99ec-bc161da66883",
   "metadata": {},
   "outputs": [
    {
     "data": {
      "text/latex": [
       "$\\displaystyle p_{12} = \\frac{dt^{2} p_{32}}{2} + dt p_{22} + dt \\left(\\frac{dt^{2} p_{33}}{2} + dt p_{23} + p_{13}\\right) + p_{12} + q_{12}$"
      ],
      "text/plain": [
       "Eq(p_12, dt**2*p_32/2 + dt*p_22 + dt*(dt**2*p_33/2 + dt*p_23 + p_13) + p_12 + q_12)"
      ]
     },
     "execution_count": 22,
     "metadata": {},
     "output_type": "execute_result"
    }
   ],
   "source": [
    "sp.Eq(p12, P[0,1])"
   ]
  },
  {
   "cell_type": "code",
   "execution_count": 23,
   "id": "a6ee79ab-9f17-408b-8501-3ff91b8ddf64",
   "metadata": {},
   "outputs": [
    {
     "data": {
      "text/latex": [
       "$\\displaystyle p_{13} = \\frac{dt^{2} p_{33}}{2} + dt p_{23} + p_{13} + q_{13}$"
      ],
      "text/plain": [
       "Eq(p_13, dt**2*p_33/2 + dt*p_23 + p_13 + q_13)"
      ]
     },
     "execution_count": 23,
     "metadata": {},
     "output_type": "execute_result"
    }
   ],
   "source": [
    "sp.Eq(p13, P[0,2])"
   ]
  },
  {
   "cell_type": "code",
   "execution_count": 24,
   "id": "c1a514ff-c9cd-4290-a60b-e842ac93b48c",
   "metadata": {},
   "outputs": [
    {
     "data": {
      "text/latex": [
       "$\\displaystyle p_{21} = \\frac{dt^{2} \\left(dt p_{33} + p_{23}\\right)}{2} + dt p_{31} + dt \\left(dt p_{32} + p_{22}\\right) + p_{21} + q_{21}$"
      ],
      "text/plain": [
       "Eq(p_21, dt**2*(dt*p_33 + p_23)/2 + dt*p_31 + dt*(dt*p_32 + p_22) + p_21 + q_21)"
      ]
     },
     "execution_count": 24,
     "metadata": {},
     "output_type": "execute_result"
    }
   ],
   "source": [
    "sp.Eq(p21, P[1,0])"
   ]
  },
  {
   "cell_type": "code",
   "execution_count": 25,
   "id": "c65208a7-d990-4c9a-9e66-83ef58a8c8c1",
   "metadata": {},
   "outputs": [
    {
     "data": {
      "text/latex": [
       "$\\displaystyle p_{22} = dt p_{32} + dt \\left(dt p_{33} + p_{23}\\right) + p_{22} + q_{22}$"
      ],
      "text/plain": [
       "Eq(p_22, dt*p_32 + dt*(dt*p_33 + p_23) + p_22 + q_22)"
      ]
     },
     "execution_count": 25,
     "metadata": {},
     "output_type": "execute_result"
    }
   ],
   "source": [
    "sp.Eq(p22, P[1,1])"
   ]
  },
  {
   "cell_type": "code",
   "execution_count": 26,
   "id": "70749d64-d799-4d29-81dd-574f9a69b15c",
   "metadata": {},
   "outputs": [
    {
     "data": {
      "text/latex": [
       "$\\displaystyle p_{23} = dt p_{33} + p_{23} + q_{23}$"
      ],
      "text/plain": [
       "Eq(p_23, dt*p_33 + p_23 + q_23)"
      ]
     },
     "execution_count": 26,
     "metadata": {},
     "output_type": "execute_result"
    }
   ],
   "source": [
    "sp.Eq(p23, P[1,2])"
   ]
  },
  {
   "cell_type": "code",
   "execution_count": 27,
   "id": "078a880f-c3b2-4667-a96b-e5ab924ae392",
   "metadata": {},
   "outputs": [
    {
     "data": {
      "text/latex": [
       "$\\displaystyle p_{31} = \\frac{dt^{2} p_{33}}{2} + dt p_{32} + p_{31} + q_{31}$"
      ],
      "text/plain": [
       "Eq(p_31, dt**2*p_33/2 + dt*p_32 + p_31 + q_31)"
      ]
     },
     "execution_count": 27,
     "metadata": {},
     "output_type": "execute_result"
    }
   ],
   "source": [
    "sp.Eq(p31, P[2,0])"
   ]
  },
  {
   "cell_type": "code",
   "execution_count": 28,
   "id": "59058da6-af41-4e19-bae5-3f9335439981",
   "metadata": {},
   "outputs": [
    {
     "data": {
      "text/latex": [
       "$\\displaystyle p_{32} = dt p_{33} + p_{32} + q_{32}$"
      ],
      "text/plain": [
       "Eq(p_32, dt*p_33 + p_32 + q_32)"
      ]
     },
     "execution_count": 28,
     "metadata": {},
     "output_type": "execute_result"
    }
   ],
   "source": [
    "sp.Eq(p32, P[2,1])"
   ]
  },
  {
   "cell_type": "code",
   "execution_count": 29,
   "id": "e8620aea-f590-49a5-adbb-9a87f03949aa",
   "metadata": {},
   "outputs": [
    {
     "data": {
      "text/latex": [
       "$\\displaystyle p_{33} = p_{33} + q_{33}$"
      ],
      "text/plain": [
       "Eq(p_33, p_33 + q_33)"
      ]
     },
     "execution_count": 29,
     "metadata": {},
     "output_type": "execute_result"
    }
   ],
   "source": [
    "sp.Eq(p33, P[2,2])"
   ]
  },
  {
   "cell_type": "code",
   "execution_count": 30,
   "id": "8160af8a-6c6b-477d-93eb-0eec914f8071",
   "metadata": {},
   "outputs": [
    {
     "data": {
      "text/latex": [
       "$\\displaystyle \\left[\\begin{matrix}x\\\\V\\\\a\\end{matrix}\\right]$"
      ],
      "text/plain": [
       "Matrix([\n",
       "[x],\n",
       "[V],\n",
       "[a]])"
      ]
     },
     "execution_count": 30,
     "metadata": {},
     "output_type": "execute_result"
    }
   ],
   "source": [
    "X = sp.Matrix([[ x ],\n",
    "               [ v ],\n",
    "               [ a ]])\n",
    "X"
   ]
  },
  {
   "cell_type": "code",
   "execution_count": 31,
   "id": "6f8d46a0-1e0a-447b-b8db-2cd4a451123e",
   "metadata": {},
   "outputs": [
    {
     "data": {
      "text/latex": [
       "$\\displaystyle \\left[\\begin{matrix}p_{11} & p_{12} & p_{13}\\\\p_{21} & p_{22} & p_{23}\\\\p_{31} & p_{32} & p_{33}\\end{matrix}\\right]$"
      ],
      "text/plain": [
       "Matrix([\n",
       "[p_11, p_12, p_13],\n",
       "[p_21, p_22, p_23],\n",
       "[p_31, p_32, p_33]])"
      ]
     },
     "execution_count": 31,
     "metadata": {},
     "output_type": "execute_result"
    }
   ],
   "source": [
    "P = sp.Matrix([[ p11, p12, p13 ],\n",
    "               [ p21, p22, p23 ],\n",
    "               [ p31, p32, p33 ]])\n",
    "P"
   ]
  },
  {
   "cell_type": "markdown",
   "id": "b34d195f-bb7f-4256-a53e-da15ab0f044a",
   "metadata": {},
   "source": [
    "# Correction"
   ]
  },
  {
   "cell_type": "code",
   "execution_count": 32,
   "id": "2717a4e6-e265-4ca5-9b9d-2db7f2877dee",
   "metadata": {},
   "outputs": [
    {
     "data": {
      "text/latex": [
       "$\\displaystyle \\left[\\begin{matrix}- x + x_{meas}\\end{matrix}\\right]$"
      ],
      "text/plain": [
       "Matrix([[-x + x_meas]])"
      ]
     },
     "execution_count": 32,
     "metadata": {},
     "output_type": "execute_result"
    }
   ],
   "source": [
    "Y = Z - (H @ X)\n",
    "Y"
   ]
  },
  {
   "cell_type": "code",
   "execution_count": 33,
   "id": "4994dc91-3c76-4b90-98fb-9fcd747a590a",
   "metadata": {},
   "outputs": [
    {
     "data": {
      "text/latex": [
       "$\\displaystyle \\left[\\begin{matrix}p_{11} + r_{x}\\end{matrix}\\right]$"
      ],
      "text/plain": [
       "Matrix([[p_11 + r_x]])"
      ]
     },
     "execution_count": 33,
     "metadata": {},
     "output_type": "execute_result"
    }
   ],
   "source": [
    "S = (H @ P @ H.T) + R\n",
    "S"
   ]
  },
  {
   "cell_type": "code",
   "execution_count": 34,
   "id": "64dc6582-c2c0-4249-9db8-4bfbae54ee0e",
   "metadata": {},
   "outputs": [
    {
     "data": {
      "text/latex": [
       "$\\displaystyle \\left[\\begin{matrix}\\frac{p_{11}}{p_{11} + r_{x}}\\\\\\frac{p_{21}}{p_{11} + r_{x}}\\\\\\frac{p_{31}}{p_{11} + r_{x}}\\end{matrix}\\right]$"
      ],
      "text/plain": [
       "Matrix([\n",
       "[p_11/(p_11 + r_x)],\n",
       "[p_21/(p_11 + r_x)],\n",
       "[p_31/(p_11 + r_x)]])"
      ]
     },
     "execution_count": 34,
     "metadata": {},
     "output_type": "execute_result"
    }
   ],
   "source": [
    "K = P @ H.T @ S.inv()\n",
    "K"
   ]
  },
  {
   "cell_type": "code",
   "execution_count": 35,
   "id": "33e0a735-5507-41d0-abd7-6cf6fa42e801",
   "metadata": {},
   "outputs": [
    {
     "data": {
      "text/latex": [
       "$\\displaystyle k_{11} = \\frac{p_{11}}{p_{11} + r_{x}}$"
      ],
      "text/plain": [
       "Eq(k_11, p_11/(p_11 + r_x))"
      ]
     },
     "execution_count": 35,
     "metadata": {},
     "output_type": "execute_result"
    }
   ],
   "source": [
    "sp.Eq(k11, K[0,0])"
   ]
  },
  {
   "cell_type": "code",
   "execution_count": 36,
   "id": "c46bf78f-a746-41ea-b7bb-c3d597b2dff4",
   "metadata": {},
   "outputs": [
    {
     "data": {
      "text/latex": [
       "$\\displaystyle k_{12} = \\frac{p_{21}}{p_{11} + r_{x}}$"
      ],
      "text/plain": [
       "Eq(k_12, p_21/(p_11 + r_x))"
      ]
     },
     "execution_count": 36,
     "metadata": {},
     "output_type": "execute_result"
    }
   ],
   "source": [
    "sp.Eq(k12, K[1,0])"
   ]
  },
  {
   "cell_type": "code",
   "execution_count": 37,
   "id": "71777873-5d48-4040-b5ae-37df71a93346",
   "metadata": {},
   "outputs": [
    {
     "data": {
      "text/latex": [
       "$\\displaystyle k_{13} = \\frac{p_{31}}{p_{11} + r_{x}}$"
      ],
      "text/plain": [
       "Eq(k_13, p_31/(p_11 + r_x))"
      ]
     },
     "execution_count": 37,
     "metadata": {},
     "output_type": "execute_result"
    }
   ],
   "source": [
    "sp.Eq(k13, K[2,0])"
   ]
  },
  {
   "cell_type": "code",
   "execution_count": 38,
   "id": "1008425a-e7a7-4eba-97ca-264adacf7329",
   "metadata": {},
   "outputs": [
    {
     "data": {
      "text/latex": [
       "$\\displaystyle \\left[\\begin{matrix}k_{11}\\\\k_{12}\\\\k_{13}\\end{matrix}\\right]$"
      ],
      "text/plain": [
       "Matrix([\n",
       "[k_11],\n",
       "[k_12],\n",
       "[k_13]])"
      ]
     },
     "execution_count": 38,
     "metadata": {},
     "output_type": "execute_result"
    }
   ],
   "source": [
    "K = sp.Matrix([[ k11 ],\n",
    "               [ k12 ],\n",
    "               [ k13 ]])\n",
    "K"
   ]
  },
  {
   "cell_type": "code",
   "execution_count": 39,
   "id": "8d257d2e-a78c-4198-96af-78f2b3dd7d22",
   "metadata": {},
   "outputs": [
    {
     "data": {
      "text/latex": [
       "$\\displaystyle \\left[\\begin{matrix}k_{11} \\left(- x + x_{meas}\\right) + x\\\\V + k_{12} \\left(- x + x_{meas}\\right)\\\\a + k_{13} \\left(- x + x_{meas}\\right)\\end{matrix}\\right]$"
      ],
      "text/plain": [
       "Matrix([\n",
       "[k_11*(-x + x_meas) + x],\n",
       "[V + k_12*(-x + x_meas)],\n",
       "[a + k_13*(-x + x_meas)]])"
      ]
     },
     "execution_count": 39,
     "metadata": {},
     "output_type": "execute_result"
    }
   ],
   "source": [
    "X = X + (K @ Y)\n",
    "X"
   ]
  },
  {
   "cell_type": "code",
   "execution_count": 40,
   "id": "0ac3814f-21d8-4e39-b5c8-8b37847a0729",
   "metadata": {},
   "outputs": [
    {
     "data": {
      "text/latex": [
       "$\\displaystyle x = k_{11} \\left(- x + x_{meas}\\right) + x$"
      ],
      "text/plain": [
       "Eq(x, k_11*(-x + x_meas) + x)"
      ]
     },
     "execution_count": 40,
     "metadata": {},
     "output_type": "execute_result"
    }
   ],
   "source": [
    "sp.Eq(x, X[0,0])"
   ]
  },
  {
   "cell_type": "code",
   "execution_count": 41,
   "id": "55b03ba3-b543-4a21-88ad-e40e76378928",
   "metadata": {},
   "outputs": [
    {
     "data": {
      "text/latex": [
       "$\\displaystyle V = V + k_{12} \\left(- x + x_{meas}\\right)$"
      ],
      "text/plain": [
       "Eq(V, V + k_12*(-x + x_meas))"
      ]
     },
     "execution_count": 41,
     "metadata": {},
     "output_type": "execute_result"
    }
   ],
   "source": [
    "sp.Eq(v, X[1,0])"
   ]
  },
  {
   "cell_type": "code",
   "execution_count": 42,
   "id": "3b16cff9-ed4b-4ce4-8ba3-bfcd602df317",
   "metadata": {},
   "outputs": [
    {
     "data": {
      "text/latex": [
       "$\\displaystyle a = a + k_{13} \\left(- x + x_{meas}\\right)$"
      ],
      "text/plain": [
       "Eq(a, a + k_13*(-x + x_meas))"
      ]
     },
     "execution_count": 42,
     "metadata": {},
     "output_type": "execute_result"
    }
   ],
   "source": [
    "sp.Eq(a, X[2,0])"
   ]
  },
  {
   "cell_type": "code",
   "execution_count": 43,
   "id": "049ec3d4-7ad6-4c67-97e9-f98830762f75",
   "metadata": {},
   "outputs": [
    {
     "data": {
      "text/latex": [
       "$\\displaystyle \\left[\\begin{matrix}p_{11} \\cdot \\left(1 - k_{11}\\right) & p_{12} \\cdot \\left(1 - k_{11}\\right) & p_{13} \\cdot \\left(1 - k_{11}\\right)\\\\- k_{12} p_{11} + p_{21} & - k_{12} p_{12} + p_{22} & - k_{12} p_{13} + p_{23}\\\\- k_{13} p_{11} + p_{31} & - k_{13} p_{12} + p_{32} & - k_{13} p_{13} + p_{33}\\end{matrix}\\right]$"
      ],
      "text/plain": [
       "Matrix([\n",
       "[  p_11*(1 - k_11),   p_12*(1 - k_11),   p_13*(1 - k_11)],\n",
       "[-k_12*p_11 + p_21, -k_12*p_12 + p_22, -k_12*p_13 + p_23],\n",
       "[-k_13*p_11 + p_31, -k_13*p_12 + p_32, -k_13*p_13 + p_33]])"
      ]
     },
     "execution_count": 43,
     "metadata": {},
     "output_type": "execute_result"
    }
   ],
   "source": [
    "P = (I - (K @ H)) @ P\n",
    "P"
   ]
  },
  {
   "cell_type": "code",
   "execution_count": 44,
   "id": "d82ba0d0-81f8-45e7-a90a-34fbae0788f9",
   "metadata": {},
   "outputs": [
    {
     "data": {
      "text/latex": [
       "$\\displaystyle p_{11} = p_{11} \\cdot \\left(1 - k_{11}\\right)$"
      ],
      "text/plain": [
       "Eq(p_11, p_11*(1 - k_11))"
      ]
     },
     "execution_count": 44,
     "metadata": {},
     "output_type": "execute_result"
    }
   ],
   "source": [
    "sp.Eq(p11, P[0,0])"
   ]
  },
  {
   "cell_type": "code",
   "execution_count": 45,
   "id": "8f549998-122a-4dd8-aac1-0f76a169d540",
   "metadata": {},
   "outputs": [
    {
     "data": {
      "text/latex": [
       "$\\displaystyle p_{12} = p_{12} \\cdot \\left(1 - k_{11}\\right)$"
      ],
      "text/plain": [
       "Eq(p_12, p_12*(1 - k_11))"
      ]
     },
     "execution_count": 45,
     "metadata": {},
     "output_type": "execute_result"
    }
   ],
   "source": [
    "sp.Eq(p12, P[0,1])"
   ]
  },
  {
   "cell_type": "code",
   "execution_count": 46,
   "id": "d41c7043-83bf-4d96-93fe-76928c9961e2",
   "metadata": {},
   "outputs": [
    {
     "data": {
      "text/latex": [
       "$\\displaystyle p_{13} = p_{13} \\cdot \\left(1 - k_{11}\\right)$"
      ],
      "text/plain": [
       "Eq(p_13, p_13*(1 - k_11))"
      ]
     },
     "execution_count": 46,
     "metadata": {},
     "output_type": "execute_result"
    }
   ],
   "source": [
    "sp.Eq(p13, P[0,2])"
   ]
  },
  {
   "cell_type": "code",
   "execution_count": 47,
   "id": "883b0172-612b-4f52-9f2e-c97e295c6539",
   "metadata": {},
   "outputs": [
    {
     "data": {
      "text/latex": [
       "$\\displaystyle p_{21} = - k_{12} p_{11} + p_{21}$"
      ],
      "text/plain": [
       "Eq(p_21, -k_12*p_11 + p_21)"
      ]
     },
     "execution_count": 47,
     "metadata": {},
     "output_type": "execute_result"
    }
   ],
   "source": [
    "sp.Eq(p21, P[1,0])"
   ]
  },
  {
   "cell_type": "code",
   "execution_count": 48,
   "id": "7f413f43-f8c8-479a-a1e1-744077a9bfc3",
   "metadata": {},
   "outputs": [
    {
     "data": {
      "text/latex": [
       "$\\displaystyle p_{22} = - k_{12} p_{12} + p_{22}$"
      ],
      "text/plain": [
       "Eq(p_22, -k_12*p_12 + p_22)"
      ]
     },
     "execution_count": 48,
     "metadata": {},
     "output_type": "execute_result"
    }
   ],
   "source": [
    "sp.Eq(p22, P[1,1])"
   ]
  },
  {
   "cell_type": "code",
   "execution_count": 49,
   "id": "a8c9235f-34de-4188-81ee-382b2809fb53",
   "metadata": {},
   "outputs": [
    {
     "data": {
      "text/latex": [
       "$\\displaystyle p_{23} = - k_{12} p_{13} + p_{23}$"
      ],
      "text/plain": [
       "Eq(p_23, -k_12*p_13 + p_23)"
      ]
     },
     "execution_count": 49,
     "metadata": {},
     "output_type": "execute_result"
    }
   ],
   "source": [
    "sp.Eq(p23, P[1,2])"
   ]
  },
  {
   "cell_type": "code",
   "execution_count": 50,
   "id": "7c1eb37e-629d-4399-aab5-cc1604cf8738",
   "metadata": {},
   "outputs": [
    {
     "data": {
      "text/latex": [
       "$\\displaystyle p_{31} = - k_{13} p_{11} + p_{31}$"
      ],
      "text/plain": [
       "Eq(p_31, -k_13*p_11 + p_31)"
      ]
     },
     "execution_count": 50,
     "metadata": {},
     "output_type": "execute_result"
    }
   ],
   "source": [
    "sp.Eq(p31, P[2,0])"
   ]
  },
  {
   "cell_type": "code",
   "execution_count": 51,
   "id": "d6755d92-558e-4250-9093-323c9f08a441",
   "metadata": {},
   "outputs": [
    {
     "data": {
      "text/latex": [
       "$\\displaystyle p_{32} = - k_{13} p_{12} + p_{32}$"
      ],
      "text/plain": [
       "Eq(p_32, -k_13*p_12 + p_32)"
      ]
     },
     "execution_count": 51,
     "metadata": {},
     "output_type": "execute_result"
    }
   ],
   "source": [
    "sp.Eq(p32, P[2,1])"
   ]
  },
  {
   "cell_type": "code",
   "execution_count": 52,
   "id": "f5d1ad48-d4fd-487a-8192-eea22fc57924",
   "metadata": {},
   "outputs": [
    {
     "data": {
      "text/latex": [
       "$\\displaystyle p_{33} = - k_{13} p_{13} + p_{33}$"
      ],
      "text/plain": [
       "Eq(p_33, -k_13*p_13 + p_33)"
      ]
     },
     "execution_count": 52,
     "metadata": {},
     "output_type": "execute_result"
    }
   ],
   "source": [
    "sp.Eq(p33, P[2,2])"
   ]
  }
 ],
 "metadata": {
  "kernelspec": {
   "display_name": "Python 3 (ipykernel)",
   "language": "python",
   "name": "python3"
  },
  "language_info": {
   "codemirror_mode": {
    "name": "ipython",
    "version": 3
   },
   "file_extension": ".py",
   "mimetype": "text/x-python",
   "name": "python",
   "nbconvert_exporter": "python",
   "pygments_lexer": "ipython3",
   "version": "3.10.12"
  }
 },
 "nbformat": 4,
 "nbformat_minor": 5
}
