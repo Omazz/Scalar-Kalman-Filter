{
 "cells": [
  {
   "cell_type": "code",
   "execution_count": 1,
   "id": "2f25c471-6e60-416d-af40-c7b88a14edc3",
   "metadata": {},
   "outputs": [],
   "source": [
    "import sympy as sp\n",
    "import IPython.display as display\n",
    "import nbconvert as nbc"
   ]
  },
  {
   "cell_type": "markdown",
   "id": "9c0015b2-5670-4d1b-81aa-8b4124520097",
   "metadata": {},
   "source": [
    "# CV: Measurement contains only measured value (without velocity)"
   ]
  },
  {
   "cell_type": "code",
   "execution_count": 2,
   "id": "1580d647-3533-40fb-b882-0a3c9db10621",
   "metadata": {},
   "outputs": [],
   "source": [
    "x, v, x_meas, dt = sp.symbols('x V x_meas dt')\n",
    "\n",
    "r_x = sp.symbols('r_x') # R\n",
    "\n",
    "q_a = sp.symbols('q_a') # Q\n",
    "\n",
    "p11, p12, p21, p22 \\\n",
    "    = sp.symbols(\"p_11 p_12 p_21 p_22\")\n",
    "\n",
    "k11, k12 \\\n",
    "    = sp.symbols(\"k_11 k_12\")\n",
    "\n",
    "I = sp.Matrix([[ 1, 0],\n",
    "               [ 0, 1]])"
   ]
  },
  {
   "cell_type": "code",
   "execution_count": 3,
   "id": "997416ec-f302-4f08-af6f-4b7fdf680e38",
   "metadata": {},
   "outputs": [
    {
     "data": {
      "text/latex": [
       "$\\displaystyle \\left[\\begin{matrix}\\frac{dt^{4} q_{a}}{4} & \\frac{dt^{3} q_{a}}{2}\\\\\\frac{dt^{3} q_{a}}{2} & dt^{2} q_{a}\\end{matrix}\\right]$"
      ],
      "text/plain": [
       "Matrix([\n",
       "[dt**4*q_a/4, dt**3*q_a/2],\n",
       "[dt**3*q_a/2,   dt**2*q_a]])"
      ]
     },
     "execution_count": 3,
     "metadata": {},
     "output_type": "execute_result"
    }
   ],
   "source": [
    "X = sp.Matrix([[  x  ],\n",
    "               [  v  ]])\n",
    "\n",
    "Z = sp.Matrix([[ x_meas ]])\n",
    "\n",
    "H = sp.Matrix([[ 1, 0 ]])\n",
    "\n",
    "F = sp.Matrix([[ 1, dt ],\n",
    "               [ 0,  1 ]])\n",
    "\n",
    "G = sp.Matrix([[ dt**2/2 ],\n",
    "               [   dt    ] ])\n",
    "\n",
    "R = sp.Matrix([[ r_x ]])\n",
    "\n",
    "P = sp.Matrix([[ p11, p12 ],\n",
    "               [ p21, p22 ]])\n",
    "\n",
    "Q = G * G.T * q_a\n",
    "Q"
   ]
  },
  {
   "cell_type": "code",
   "execution_count": 4,
   "id": "2b156977-5d14-43c5-92b8-3ff96f594699",
   "metadata": {},
   "outputs": [
    {
     "data": {
      "text/latex": [
       "$\\displaystyle \\left[\\begin{matrix}p_{11} & p_{12}\\\\p_{21} & p_{22}\\end{matrix}\\right]$"
      ],
      "text/plain": [
       "Matrix([\n",
       "[p_11, p_12],\n",
       "[p_21, p_22]])"
      ]
     },
     "execution_count": 4,
     "metadata": {},
     "output_type": "execute_result"
    }
   ],
   "source": [
    "P"
   ]
  },
  {
   "cell_type": "code",
   "execution_count": 5,
   "id": "9e06b62f-9939-47ae-b115-08d847cbeeda",
   "metadata": {},
   "outputs": [
    {
     "data": {
      "text/latex": [
       "$\\displaystyle \\left[\\begin{matrix}r_{x}\\end{matrix}\\right]$"
      ],
      "text/plain": [
       "Matrix([[r_x]])"
      ]
     },
     "execution_count": 5,
     "metadata": {},
     "output_type": "execute_result"
    }
   ],
   "source": [
    "R"
   ]
  },
  {
   "cell_type": "code",
   "execution_count": 6,
   "id": "bdaf1645-52da-4630-8c10-62db4dda8bf2",
   "metadata": {},
   "outputs": [
    {
     "data": {
      "text/latex": [
       "$\\displaystyle \\left[\\begin{matrix}x\\\\V\\end{matrix}\\right]$"
      ],
      "text/plain": [
       "Matrix([\n",
       "[x],\n",
       "[V]])"
      ]
     },
     "execution_count": 6,
     "metadata": {},
     "output_type": "execute_result"
    }
   ],
   "source": [
    "X"
   ]
  },
  {
   "cell_type": "code",
   "execution_count": 7,
   "id": "53bb5dfa-e9df-4fe0-a326-c0375371cd95",
   "metadata": {},
   "outputs": [
    {
     "data": {
      "text/latex": [
       "$\\displaystyle \\left[\\begin{matrix}x_{meas}\\end{matrix}\\right]$"
      ],
      "text/plain": [
       "Matrix([[x_meas]])"
      ]
     },
     "execution_count": 7,
     "metadata": {},
     "output_type": "execute_result"
    }
   ],
   "source": [
    "Z"
   ]
  },
  {
   "cell_type": "code",
   "execution_count": 8,
   "id": "0ba7160b-a282-4ed0-ab50-4b7426b9720a",
   "metadata": {},
   "outputs": [
    {
     "data": {
      "text/latex": [
       "$\\displaystyle \\left[\\begin{matrix}1 & 0\\end{matrix}\\right]$"
      ],
      "text/plain": [
       "Matrix([[1, 0]])"
      ]
     },
     "execution_count": 8,
     "metadata": {},
     "output_type": "execute_result"
    }
   ],
   "source": [
    "H"
   ]
  },
  {
   "cell_type": "markdown",
   "id": "e2f07e6a-11f8-470f-ae9b-baf158f51a72",
   "metadata": {},
   "source": [
    "# Prediction"
   ]
  },
  {
   "cell_type": "code",
   "execution_count": 9,
   "id": "28de2a4d-8d50-4866-a4bc-356c7bb043b9",
   "metadata": {},
   "outputs": [
    {
     "data": {
      "text/latex": [
       "$\\displaystyle \\left[\\begin{matrix}V dt + x\\\\V\\end{matrix}\\right]$"
      ],
      "text/plain": [
       "Matrix([\n",
       "[V*dt + x],\n",
       "[       V]])"
      ]
     },
     "execution_count": 9,
     "metadata": {},
     "output_type": "execute_result"
    }
   ],
   "source": [
    "X = F @ X\n",
    "X"
   ]
  },
  {
   "cell_type": "code",
   "execution_count": 10,
   "id": "521c2933-638a-43ab-9940-28f53defeec3",
   "metadata": {},
   "outputs": [
    {
     "data": {
      "text/latex": [
       "$\\displaystyle \\left[\\begin{matrix}\\frac{dt^{4} q_{a}}{4} + dt p_{21} + dt \\left(dt p_{22} + p_{12}\\right) + p_{11} & \\frac{dt^{3} q_{a}}{2} + dt p_{22} + p_{12}\\\\\\frac{dt^{3} q_{a}}{2} + dt p_{22} + p_{21} & dt^{2} q_{a} + p_{22}\\end{matrix}\\right]$"
      ],
      "text/plain": [
       "Matrix([\n",
       "[dt**4*q_a/4 + dt*p_21 + dt*(dt*p_22 + p_12) + p_11, dt**3*q_a/2 + dt*p_22 + p_12],\n",
       "[                      dt**3*q_a/2 + dt*p_22 + p_21,             dt**2*q_a + p_22]])"
      ]
     },
     "execution_count": 10,
     "metadata": {},
     "output_type": "execute_result"
    }
   ],
   "source": [
    "P = F @ P @ F.T + Q\n",
    "P"
   ]
  },
  {
   "cell_type": "code",
   "execution_count": 11,
   "id": "7f18a18d-70a3-4a62-965a-70f4e8a01291",
   "metadata": {},
   "outputs": [
    {
     "data": {
      "text/latex": [
       "$\\displaystyle p_{11} = \\frac{dt^{4} q_{a}}{4} + dt p_{21} + dt \\left(dt p_{22} + p_{12}\\right) + p_{11}$"
      ],
      "text/plain": [
       "Eq(p_11, dt**4*q_a/4 + dt*p_21 + dt*(dt*p_22 + p_12) + p_11)"
      ]
     },
     "execution_count": 11,
     "metadata": {},
     "output_type": "execute_result"
    }
   ],
   "source": [
    "sp.Eq(p11, P[0,0])"
   ]
  },
  {
   "cell_type": "code",
   "execution_count": 12,
   "id": "5459416c-4259-4371-99ec-bc161da66883",
   "metadata": {},
   "outputs": [
    {
     "data": {
      "text/latex": [
       "$\\displaystyle p_{12} = \\frac{dt^{3} q_{a}}{2} + dt p_{22} + p_{12}$"
      ],
      "text/plain": [
       "Eq(p_12, dt**3*q_a/2 + dt*p_22 + p_12)"
      ]
     },
     "execution_count": 12,
     "metadata": {},
     "output_type": "execute_result"
    }
   ],
   "source": [
    "sp.Eq(p12, P[0,1])"
   ]
  },
  {
   "cell_type": "code",
   "execution_count": 13,
   "id": "c1a514ff-c9cd-4290-a60b-e842ac93b48c",
   "metadata": {},
   "outputs": [
    {
     "data": {
      "text/latex": [
       "$\\displaystyle p_{21} = \\frac{dt^{3} q_{a}}{2} + dt p_{22} + p_{21}$"
      ],
      "text/plain": [
       "Eq(p_21, dt**3*q_a/2 + dt*p_22 + p_21)"
      ]
     },
     "execution_count": 13,
     "metadata": {},
     "output_type": "execute_result"
    }
   ],
   "source": [
    "sp.Eq(p21, P[1,0])"
   ]
  },
  {
   "cell_type": "code",
   "execution_count": 14,
   "id": "c65208a7-d990-4c9a-9e66-83ef58a8c8c1",
   "metadata": {},
   "outputs": [
    {
     "data": {
      "text/latex": [
       "$\\displaystyle p_{22} = dt^{2} q_{a} + p_{22}$"
      ],
      "text/plain": [
       "Eq(p_22, dt**2*q_a + p_22)"
      ]
     },
     "execution_count": 14,
     "metadata": {},
     "output_type": "execute_result"
    }
   ],
   "source": [
    "sp.Eq(p22, P[1,1])"
   ]
  },
  {
   "cell_type": "code",
   "execution_count": 15,
   "id": "8160af8a-6c6b-477d-93eb-0eec914f8071",
   "metadata": {},
   "outputs": [
    {
     "data": {
      "text/latex": [
       "$\\displaystyle \\left[\\begin{matrix}x\\\\V\\end{matrix}\\right]$"
      ],
      "text/plain": [
       "Matrix([\n",
       "[x],\n",
       "[V]])"
      ]
     },
     "execution_count": 15,
     "metadata": {},
     "output_type": "execute_result"
    }
   ],
   "source": [
    "X = sp.Matrix([[  x  ],\n",
    "               [  v  ]])\n",
    "X"
   ]
  },
  {
   "cell_type": "code",
   "execution_count": 16,
   "id": "6f8d46a0-1e0a-447b-b8db-2cd4a451123e",
   "metadata": {},
   "outputs": [
    {
     "data": {
      "text/latex": [
       "$\\displaystyle \\left[\\begin{matrix}p_{11} & p_{12}\\\\p_{21} & p_{22}\\end{matrix}\\right]$"
      ],
      "text/plain": [
       "Matrix([\n",
       "[p_11, p_12],\n",
       "[p_21, p_22]])"
      ]
     },
     "execution_count": 16,
     "metadata": {},
     "output_type": "execute_result"
    }
   ],
   "source": [
    "P = sp.Matrix([[ p11, p12 ],\n",
    "               [ p21, p22 ]])\n",
    "P"
   ]
  },
  {
   "cell_type": "markdown",
   "id": "b34d195f-bb7f-4256-a53e-da15ab0f044a",
   "metadata": {},
   "source": [
    "# Correction"
   ]
  },
  {
   "cell_type": "code",
   "execution_count": 17,
   "id": "2717a4e6-e265-4ca5-9b9d-2db7f2877dee",
   "metadata": {},
   "outputs": [
    {
     "data": {
      "text/latex": [
       "$\\displaystyle \\left[\\begin{matrix}- x + x_{meas}\\end{matrix}\\right]$"
      ],
      "text/plain": [
       "Matrix([[-x + x_meas]])"
      ]
     },
     "execution_count": 17,
     "metadata": {},
     "output_type": "execute_result"
    }
   ],
   "source": [
    "Y = Z - (H @ X)\n",
    "Y"
   ]
  },
  {
   "cell_type": "code",
   "execution_count": 18,
   "id": "4994dc91-3c76-4b90-98fb-9fcd747a590a",
   "metadata": {},
   "outputs": [
    {
     "data": {
      "text/latex": [
       "$\\displaystyle \\left[\\begin{matrix}p_{11} + r_{x}\\end{matrix}\\right]$"
      ],
      "text/plain": [
       "Matrix([[p_11 + r_x]])"
      ]
     },
     "execution_count": 18,
     "metadata": {},
     "output_type": "execute_result"
    }
   ],
   "source": [
    "S = (H @ P @ H.T) + R\n",
    "S"
   ]
  },
  {
   "cell_type": "code",
   "execution_count": 19,
   "id": "64dc6582-c2c0-4249-9db8-4bfbae54ee0e",
   "metadata": {},
   "outputs": [
    {
     "data": {
      "text/latex": [
       "$\\displaystyle \\left[\\begin{matrix}\\frac{p_{11}}{p_{11} + r_{x}}\\\\\\frac{p_{21}}{p_{11} + r_{x}}\\end{matrix}\\right]$"
      ],
      "text/plain": [
       "Matrix([\n",
       "[p_11/(p_11 + r_x)],\n",
       "[p_21/(p_11 + r_x)]])"
      ]
     },
     "execution_count": 19,
     "metadata": {},
     "output_type": "execute_result"
    }
   ],
   "source": [
    "K = P @ H.T @ S.inv()\n",
    "K"
   ]
  },
  {
   "cell_type": "code",
   "execution_count": 20,
   "id": "33e0a735-5507-41d0-abd7-6cf6fa42e801",
   "metadata": {},
   "outputs": [
    {
     "data": {
      "text/latex": [
       "$\\displaystyle k_{11} = \\frac{p_{11}}{p_{11} + r_{x}}$"
      ],
      "text/plain": [
       "Eq(k_11, p_11/(p_11 + r_x))"
      ]
     },
     "execution_count": 20,
     "metadata": {},
     "output_type": "execute_result"
    }
   ],
   "source": [
    "sp.Eq(k11, K[0,0])"
   ]
  },
  {
   "cell_type": "code",
   "execution_count": 21,
   "id": "c46bf78f-a746-41ea-b7bb-c3d597b2dff4",
   "metadata": {},
   "outputs": [
    {
     "data": {
      "text/latex": [
       "$\\displaystyle k_{12} = \\frac{p_{21}}{p_{11} + r_{x}}$"
      ],
      "text/plain": [
       "Eq(k_12, p_21/(p_11 + r_x))"
      ]
     },
     "execution_count": 21,
     "metadata": {},
     "output_type": "execute_result"
    }
   ],
   "source": [
    "sp.Eq(k12, K[1,0])"
   ]
  },
  {
   "cell_type": "code",
   "execution_count": 22,
   "id": "1008425a-e7a7-4eba-97ca-264adacf7329",
   "metadata": {},
   "outputs": [
    {
     "data": {
      "text/latex": [
       "$\\displaystyle \\left[\\begin{matrix}k_{11}\\\\k_{12}\\end{matrix}\\right]$"
      ],
      "text/plain": [
       "Matrix([\n",
       "[k_11],\n",
       "[k_12]])"
      ]
     },
     "execution_count": 22,
     "metadata": {},
     "output_type": "execute_result"
    }
   ],
   "source": [
    "K = sp.Matrix([[ k11 ],\n",
    "               [ k12 ]])\n",
    "K"
   ]
  },
  {
   "cell_type": "code",
   "execution_count": 23,
   "id": "8d257d2e-a78c-4198-96af-78f2b3dd7d22",
   "metadata": {},
   "outputs": [
    {
     "data": {
      "text/latex": [
       "$\\displaystyle \\left[\\begin{matrix}k_{11} \\left(- x + x_{meas}\\right) + x\\\\V + k_{12} \\left(- x + x_{meas}\\right)\\end{matrix}\\right]$"
      ],
      "text/plain": [
       "Matrix([\n",
       "[k_11*(-x + x_meas) + x],\n",
       "[V + k_12*(-x + x_meas)]])"
      ]
     },
     "execution_count": 23,
     "metadata": {},
     "output_type": "execute_result"
    }
   ],
   "source": [
    "X = X + (K @ Y)\n",
    "X"
   ]
  },
  {
   "cell_type": "code",
   "execution_count": 24,
   "id": "0ac3814f-21d8-4e39-b5c8-8b37847a0729",
   "metadata": {},
   "outputs": [
    {
     "data": {
      "text/latex": [
       "$\\displaystyle x = k_{11} \\left(- x + x_{meas}\\right) + x$"
      ],
      "text/plain": [
       "Eq(x, k_11*(-x + x_meas) + x)"
      ]
     },
     "execution_count": 24,
     "metadata": {},
     "output_type": "execute_result"
    }
   ],
   "source": [
    "sp.Eq(x, X[0,0])"
   ]
  },
  {
   "cell_type": "code",
   "execution_count": 25,
   "id": "55b03ba3-b543-4a21-88ad-e40e76378928",
   "metadata": {},
   "outputs": [
    {
     "data": {
      "text/latex": [
       "$\\displaystyle V = V + k_{12} \\left(- x + x_{meas}\\right)$"
      ],
      "text/plain": [
       "Eq(V, V + k_12*(-x + x_meas))"
      ]
     },
     "execution_count": 25,
     "metadata": {},
     "output_type": "execute_result"
    }
   ],
   "source": [
    "sp.Eq(v, X[1,0])"
   ]
  },
  {
   "cell_type": "code",
   "execution_count": 26,
   "id": "049ec3d4-7ad6-4c67-97e9-f98830762f75",
   "metadata": {},
   "outputs": [
    {
     "data": {
      "text/latex": [
       "$\\displaystyle \\left[\\begin{matrix}p_{11} \\cdot \\left(1 - k_{11}\\right) & p_{12} \\cdot \\left(1 - k_{11}\\right)\\\\- k_{12} p_{11} + p_{21} & - k_{12} p_{12} + p_{22}\\end{matrix}\\right]$"
      ],
      "text/plain": [
       "Matrix([\n",
       "[  p_11*(1 - k_11),   p_12*(1 - k_11)],\n",
       "[-k_12*p_11 + p_21, -k_12*p_12 + p_22]])"
      ]
     },
     "execution_count": 26,
     "metadata": {},
     "output_type": "execute_result"
    }
   ],
   "source": [
    "P = (I - (K @ H)) @ P\n",
    "P"
   ]
  },
  {
   "cell_type": "code",
   "execution_count": 27,
   "id": "d82ba0d0-81f8-45e7-a90a-34fbae0788f9",
   "metadata": {},
   "outputs": [
    {
     "data": {
      "text/latex": [
       "$\\displaystyle p_{11} = p_{11} \\cdot \\left(1 - k_{11}\\right)$"
      ],
      "text/plain": [
       "Eq(p_11, p_11*(1 - k_11))"
      ]
     },
     "execution_count": 27,
     "metadata": {},
     "output_type": "execute_result"
    }
   ],
   "source": [
    "sp.Eq(p11, P[0,0])"
   ]
  },
  {
   "cell_type": "code",
   "execution_count": 28,
   "id": "8f549998-122a-4dd8-aac1-0f76a169d540",
   "metadata": {},
   "outputs": [
    {
     "data": {
      "text/latex": [
       "$\\displaystyle p_{12} = p_{12} \\cdot \\left(1 - k_{11}\\right)$"
      ],
      "text/plain": [
       "Eq(p_12, p_12*(1 - k_11))"
      ]
     },
     "execution_count": 28,
     "metadata": {},
     "output_type": "execute_result"
    }
   ],
   "source": [
    "sp.Eq(p12, P[0,1])"
   ]
  },
  {
   "cell_type": "code",
   "execution_count": 29,
   "id": "883b0172-612b-4f52-9f2e-c97e295c6539",
   "metadata": {},
   "outputs": [
    {
     "data": {
      "text/latex": [
       "$\\displaystyle p_{21} = - k_{12} p_{11} + p_{21}$"
      ],
      "text/plain": [
       "Eq(p_21, -k_12*p_11 + p_21)"
      ]
     },
     "execution_count": 29,
     "metadata": {},
     "output_type": "execute_result"
    }
   ],
   "source": [
    "sp.Eq(p21, P[1,0])"
   ]
  },
  {
   "cell_type": "code",
   "execution_count": 30,
   "id": "7f413f43-f8c8-479a-a1e1-744077a9bfc3",
   "metadata": {},
   "outputs": [
    {
     "data": {
      "text/latex": [
       "$\\displaystyle p_{22} = - k_{12} p_{12} + p_{22}$"
      ],
      "text/plain": [
       "Eq(p_22, -k_12*p_12 + p_22)"
      ]
     },
     "execution_count": 30,
     "metadata": {},
     "output_type": "execute_result"
    }
   ],
   "source": [
    "sp.Eq(p22, P[1,1])"
   ]
  },
  {
   "cell_type": "code",
   "execution_count": null,
   "id": "44d1a6a7-9d0f-4e3f-b38e-f55d7122447d",
   "metadata": {},
   "outputs": [],
   "source": []
  }
 ],
 "metadata": {
  "kernelspec": {
   "display_name": "Python 3 (ipykernel)",
   "language": "python",
   "name": "python3"
  },
  "language_info": {
   "codemirror_mode": {
    "name": "ipython",
    "version": 3
   },
   "file_extension": ".py",
   "mimetype": "text/x-python",
   "name": "python",
   "nbconvert_exporter": "python",
   "pygments_lexer": "ipython3",
   "version": "3.10.12"
  }
 },
 "nbformat": 4,
 "nbformat_minor": 5
}
