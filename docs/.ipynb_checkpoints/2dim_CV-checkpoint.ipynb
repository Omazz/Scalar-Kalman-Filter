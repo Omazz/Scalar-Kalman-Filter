{
 "cells": [
  {
   "cell_type": "code",
   "execution_count": 1,
   "id": "2f25c471-6e60-416d-af40-c7b88a14edc3",
   "metadata": {},
   "outputs": [],
   "source": [
    "import sympy as sp\n",
    "import IPython.display as display\n",
    "import nbconvert as nbc"
   ]
  },
  {
   "cell_type": "markdown",
   "id": "9c0015b2-5670-4d1b-81aa-8b4124520097",
   "metadata": {},
   "source": [
    "# CV:  Measurement contains only measured value (without rate of changing)"
   ]
  },
  {
   "cell_type": "code",
   "execution_count": 2,
   "id": "1580d647-3533-40fb-b882-0a3c9db10621",
   "metadata": {},
   "outputs": [],
   "source": [
    "x, y, v_x, v_y, x_meas, y_meas, dt = sp.symbols('x y V_x V_y x_meas y_meas dt')\n",
    "\n",
    "r_x = sp.symbols('r_x') # R\n",
    "\n",
    "q_a = sp.symbols('q_a') # Q\n",
    "\n",
    "p11, p13, p22, p24, p31, p33, p42, p44 \\\n",
    "    = sp.symbols(\"p_11 p_13 p_22 p_24 p_31 p_33 p_42 p_44\")\n",
    "\n",
    "k11, k22, k31, k42 \\\n",
    "    = sp.symbols(\"k_11 k_22 k_31 k_42\")\n",
    "\n",
    "I = sp.Matrix([[ 1, 0, 0, 0 ],\n",
    "               [ 0, 1, 0, 0 ],\n",
    "               [ 0, 0, 1, 0 ],\n",
    "               [ 0, 0, 0, 1 ]])"
   ]
  },
  {
   "cell_type": "code",
   "execution_count": 3,
   "id": "997416ec-f302-4f08-af6f-4b7fdf680e38",
   "metadata": {},
   "outputs": [
    {
     "data": {
      "text/latex": [
       "$\\displaystyle \\left[\\begin{matrix}\\frac{dt^{4} q_{a}}{4} & 0 & \\frac{dt^{3} q_{a}}{2} & 0\\\\0 & \\frac{dt^{4} q_{a}}{4} & 0 & \\frac{dt^{3} q_{a}}{2}\\\\\\frac{dt^{3} q_{a}}{2} & 0 & dt^{2} q_{a} & 0\\\\0 & \\frac{dt^{3} q_{a}}{2} & 0 & dt^{2} q_{a}\\end{matrix}\\right]$"
      ],
      "text/plain": [
       "Matrix([\n",
       "[dt**4*q_a/4,           0, dt**3*q_a/2,           0],\n",
       "[          0, dt**4*q_a/4,           0, dt**3*q_a/2],\n",
       "[dt**3*q_a/2,           0,   dt**2*q_a,           0],\n",
       "[          0, dt**3*q_a/2,           0,   dt**2*q_a]])"
      ]
     },
     "execution_count": 3,
     "metadata": {},
     "output_type": "execute_result"
    }
   ],
   "source": [
    "X = sp.Matrix([[  x  ],\n",
    "               [  y  ],\n",
    "               [ v_x ],\n",
    "               [ v_y ]])\n",
    "\n",
    "Z = sp.Matrix([[ x_meas ],\n",
    "               [ y_meas ]])\n",
    "\n",
    "H = sp.Matrix([[ 1, 0, 0, 0 ], \n",
    "               [ 0, 1, 0, 0 ]])\n",
    "\n",
    "F = sp.Matrix([[ 1, 0, dt,  0 ],\n",
    "               [ 0, 1,  0, dt ],\n",
    "               [ 0, 0,  1,  0 ],\n",
    "               [ 0, 0,  0,  1 ]])\n",
    "\n",
    "GGt = sp.Matrix([[ (dt**4)/4,         0, (dt**3)/2,          0 ],\n",
    "                 [         0, (dt**4)/4,          0, (dt**3)/2 ],\n",
    "                 [ (dt**3)/2,         0,     dt**2,          0 ],\n",
    "                 [         0, (dt**3)/2,         0,      dt**2 ]])\n",
    "\n",
    "R = sp.Matrix([[ r_x, 0 ],\n",
    "               [ 0, r_x ]])\n",
    "\n",
    "P = sp.Matrix([[ p11, 0, p13, 0 ],\n",
    "               [ 0, p22, 0, p24 ],\n",
    "               [ p31, 0, p33, 0 ],\n",
    "               [ 0, p42, 0, p44 ]])\n",
    "\n",
    "Q = GGt * q_a\n",
    "Q"
   ]
  },
  {
   "cell_type": "code",
   "execution_count": 4,
   "id": "2b156977-5d14-43c5-92b8-3ff96f594699",
   "metadata": {},
   "outputs": [
    {
     "data": {
      "text/latex": [
       "$\\displaystyle \\left[\\begin{matrix}p_{11} & 0 & p_{13} & 0\\\\0 & p_{22} & 0 & p_{24}\\\\p_{31} & 0 & p_{33} & 0\\\\0 & p_{42} & 0 & p_{44}\\end{matrix}\\right]$"
      ],
      "text/plain": [
       "Matrix([\n",
       "[p_11,    0, p_13,    0],\n",
       "[   0, p_22,    0, p_24],\n",
       "[p_31,    0, p_33,    0],\n",
       "[   0, p_42,    0, p_44]])"
      ]
     },
     "execution_count": 4,
     "metadata": {},
     "output_type": "execute_result"
    }
   ],
   "source": [
    "P"
   ]
  },
  {
   "cell_type": "code",
   "execution_count": 5,
   "id": "9e06b62f-9939-47ae-b115-08d847cbeeda",
   "metadata": {},
   "outputs": [
    {
     "data": {
      "text/latex": [
       "$\\displaystyle \\left[\\begin{matrix}r_{x} & 0\\\\0 & r_{x}\\end{matrix}\\right]$"
      ],
      "text/plain": [
       "Matrix([\n",
       "[r_x,   0],\n",
       "[  0, r_x]])"
      ]
     },
     "execution_count": 5,
     "metadata": {},
     "output_type": "execute_result"
    }
   ],
   "source": [
    "R"
   ]
  },
  {
   "cell_type": "code",
   "execution_count": 6,
   "id": "bdaf1645-52da-4630-8c10-62db4dda8bf2",
   "metadata": {},
   "outputs": [
    {
     "data": {
      "text/latex": [
       "$\\displaystyle \\left[\\begin{matrix}x\\\\y\\\\V_{x}\\\\V_{y}\\end{matrix}\\right]$"
      ],
      "text/plain": [
       "Matrix([\n",
       "[  x],\n",
       "[  y],\n",
       "[V_x],\n",
       "[V_y]])"
      ]
     },
     "execution_count": 6,
     "metadata": {},
     "output_type": "execute_result"
    }
   ],
   "source": [
    "X"
   ]
  },
  {
   "cell_type": "code",
   "execution_count": 7,
   "id": "53bb5dfa-e9df-4fe0-a326-c0375371cd95",
   "metadata": {},
   "outputs": [
    {
     "data": {
      "text/latex": [
       "$\\displaystyle \\left[\\begin{matrix}x_{meas}\\\\y_{meas}\\end{matrix}\\right]$"
      ],
      "text/plain": [
       "Matrix([\n",
       "[x_meas],\n",
       "[y_meas]])"
      ]
     },
     "execution_count": 7,
     "metadata": {},
     "output_type": "execute_result"
    }
   ],
   "source": [
    "Z"
   ]
  },
  {
   "cell_type": "code",
   "execution_count": 8,
   "id": "0ba7160b-a282-4ed0-ab50-4b7426b9720a",
   "metadata": {},
   "outputs": [
    {
     "data": {
      "text/latex": [
       "$\\displaystyle \\left[\\begin{matrix}1 & 0 & 0 & 0\\\\0 & 1 & 0 & 0\\end{matrix}\\right]$"
      ],
      "text/plain": [
       "Matrix([\n",
       "[1, 0, 0, 0],\n",
       "[0, 1, 0, 0]])"
      ]
     },
     "execution_count": 8,
     "metadata": {},
     "output_type": "execute_result"
    }
   ],
   "source": [
    "H"
   ]
  },
  {
   "cell_type": "markdown",
   "id": "e2f07e6a-11f8-470f-ae9b-baf158f51a72",
   "metadata": {},
   "source": [
    "# Prediction"
   ]
  },
  {
   "cell_type": "code",
   "execution_count": 9,
   "id": "28de2a4d-8d50-4866-a4bc-356c7bb043b9",
   "metadata": {},
   "outputs": [
    {
     "data": {
      "text/latex": [
       "$\\displaystyle \\left[\\begin{matrix}V_{x} dt + x\\\\V_{y} dt + y\\\\V_{x}\\\\V_{y}\\end{matrix}\\right]$"
      ],
      "text/plain": [
       "Matrix([\n",
       "[V_x*dt + x],\n",
       "[V_y*dt + y],\n",
       "[       V_x],\n",
       "[       V_y]])"
      ]
     },
     "execution_count": 9,
     "metadata": {},
     "output_type": "execute_result"
    }
   ],
   "source": [
    "X = F @ X\n",
    "X"
   ]
  },
  {
   "cell_type": "code",
   "execution_count": 10,
   "id": "521c2933-638a-43ab-9940-28f53defeec3",
   "metadata": {},
   "outputs": [
    {
     "data": {
      "text/latex": [
       "$\\displaystyle \\left[\\begin{matrix}\\frac{dt^{4} q_{a}}{4} + dt p_{31} + dt \\left(dt p_{33} + p_{13}\\right) + p_{11} & 0 & \\frac{dt^{3} q_{a}}{2} + dt p_{33} + p_{13} & 0\\\\0 & \\frac{dt^{4} q_{a}}{4} + dt p_{42} + dt \\left(dt p_{44} + p_{24}\\right) + p_{22} & 0 & \\frac{dt^{3} q_{a}}{2} + dt p_{44} + p_{24}\\\\\\frac{dt^{3} q_{a}}{2} + dt p_{33} + p_{31} & 0 & dt^{2} q_{a} + p_{33} & 0\\\\0 & \\frac{dt^{3} q_{a}}{2} + dt p_{44} + p_{42} & 0 & dt^{2} q_{a} + p_{44}\\end{matrix}\\right]$"
      ],
      "text/plain": [
       "Matrix([\n",
       "[dt**4*q_a/4 + dt*p_31 + dt*(dt*p_33 + p_13) + p_11,                                                  0, dt**3*q_a/2 + dt*p_33 + p_13,                            0],\n",
       "[                                                 0, dt**4*q_a/4 + dt*p_42 + dt*(dt*p_44 + p_24) + p_22,                            0, dt**3*q_a/2 + dt*p_44 + p_24],\n",
       "[                      dt**3*q_a/2 + dt*p_33 + p_31,                                                  0,             dt**2*q_a + p_33,                            0],\n",
       "[                                                 0,                       dt**3*q_a/2 + dt*p_44 + p_42,                            0,             dt**2*q_a + p_44]])"
      ]
     },
     "execution_count": 10,
     "metadata": {},
     "output_type": "execute_result"
    }
   ],
   "source": [
    "P = F @ P @ F.T + Q\n",
    "P"
   ]
  },
  {
   "cell_type": "code",
   "execution_count": 11,
   "id": "7f18a18d-70a3-4a62-965a-70f4e8a01291",
   "metadata": {},
   "outputs": [
    {
     "data": {
      "text/latex": [
       "$\\displaystyle p_{11} = \\frac{dt^{4} q_{a}}{4} + dt p_{31} + dt \\left(dt p_{33} + p_{13}\\right) + p_{11}$"
      ],
      "text/plain": [
       "Eq(p_11, dt**4*q_a/4 + dt*p_31 + dt*(dt*p_33 + p_13) + p_11)"
      ]
     },
     "execution_count": 11,
     "metadata": {},
     "output_type": "execute_result"
    }
   ],
   "source": [
    "sp.Eq(p11, P[0,0])"
   ]
  },
  {
   "cell_type": "code",
   "execution_count": 12,
   "id": "5459416c-4259-4371-99ec-bc161da66883",
   "metadata": {},
   "outputs": [
    {
     "data": {
      "text/latex": [
       "$\\displaystyle p_{13} = \\frac{dt^{3} q_{a}}{2} + dt p_{33} + p_{13}$"
      ],
      "text/plain": [
       "Eq(p_13, dt**3*q_a/2 + dt*p_33 + p_13)"
      ]
     },
     "execution_count": 12,
     "metadata": {},
     "output_type": "execute_result"
    }
   ],
   "source": [
    "sp.Eq(p13, P[0,2])"
   ]
  },
  {
   "cell_type": "code",
   "execution_count": 13,
   "id": "c65208a7-d990-4c9a-9e66-83ef58a8c8c1",
   "metadata": {},
   "outputs": [
    {
     "data": {
      "text/latex": [
       "$\\displaystyle p_{22} = \\frac{dt^{4} q_{a}}{4} + dt p_{42} + dt \\left(dt p_{44} + p_{24}\\right) + p_{22}$"
      ],
      "text/plain": [
       "Eq(p_22, dt**4*q_a/4 + dt*p_42 + dt*(dt*p_44 + p_24) + p_22)"
      ]
     },
     "execution_count": 13,
     "metadata": {},
     "output_type": "execute_result"
    }
   ],
   "source": [
    "sp.Eq(p22, P[1,1])"
   ]
  },
  {
   "cell_type": "code",
   "execution_count": 14,
   "id": "fbb31ebf-6799-41d7-adae-b959ced0e565",
   "metadata": {},
   "outputs": [
    {
     "data": {
      "text/latex": [
       "$\\displaystyle p_{24} = \\frac{dt^{3} q_{a}}{2} + dt p_{44} + p_{24}$"
      ],
      "text/plain": [
       "Eq(p_24, dt**3*q_a/2 + dt*p_44 + p_24)"
      ]
     },
     "execution_count": 14,
     "metadata": {},
     "output_type": "execute_result"
    }
   ],
   "source": [
    "sp.Eq(p24, P[1,3])"
   ]
  },
  {
   "cell_type": "code",
   "execution_count": 15,
   "id": "45adfbfb-ecd1-46c5-818f-487ae15a8f13",
   "metadata": {},
   "outputs": [
    {
     "data": {
      "text/latex": [
       "$\\displaystyle p_{31} = \\frac{dt^{3} q_{a}}{2} + dt p_{33} + p_{31}$"
      ],
      "text/plain": [
       "Eq(p_31, dt**3*q_a/2 + dt*p_33 + p_31)"
      ]
     },
     "execution_count": 15,
     "metadata": {},
     "output_type": "execute_result"
    }
   ],
   "source": [
    "sp.Eq(p31, P[2,0])"
   ]
  },
  {
   "cell_type": "code",
   "execution_count": 16,
   "id": "0f2a8496-dad1-47c1-9a0e-c5064147b175",
   "metadata": {},
   "outputs": [
    {
     "data": {
      "text/latex": [
       "$\\displaystyle p_{33} = dt^{2} q_{a} + p_{33}$"
      ],
      "text/plain": [
       "Eq(p_33, dt**2*q_a + p_33)"
      ]
     },
     "execution_count": 16,
     "metadata": {},
     "output_type": "execute_result"
    }
   ],
   "source": [
    "sp.Eq(p33, P[2,2])"
   ]
  },
  {
   "cell_type": "code",
   "execution_count": 17,
   "id": "d6438b15-f3c2-4af6-b1d9-7908f9f20c13",
   "metadata": {},
   "outputs": [
    {
     "data": {
      "text/latex": [
       "$\\displaystyle p_{42} = \\frac{dt^{3} q_{a}}{2} + dt p_{44} + p_{42}$"
      ],
      "text/plain": [
       "Eq(p_42, dt**3*q_a/2 + dt*p_44 + p_42)"
      ]
     },
     "execution_count": 17,
     "metadata": {},
     "output_type": "execute_result"
    }
   ],
   "source": [
    "sp.Eq(p42, P[3,1])"
   ]
  },
  {
   "cell_type": "code",
   "execution_count": 18,
   "id": "271ffeb5-9296-4553-8afd-ad4e5ac9a506",
   "metadata": {},
   "outputs": [
    {
     "data": {
      "text/latex": [
       "$\\displaystyle p_{44} = dt^{2} q_{a} + p_{44}$"
      ],
      "text/plain": [
       "Eq(p_44, dt**2*q_a + p_44)"
      ]
     },
     "execution_count": 18,
     "metadata": {},
     "output_type": "execute_result"
    }
   ],
   "source": [
    "sp.Eq(p44, P[3,3])"
   ]
  },
  {
   "cell_type": "code",
   "execution_count": 19,
   "id": "8160af8a-6c6b-477d-93eb-0eec914f8071",
   "metadata": {},
   "outputs": [
    {
     "data": {
      "text/latex": [
       "$\\displaystyle \\left[\\begin{matrix}x\\\\y\\\\V_{x}\\\\V_{y}\\end{matrix}\\right]$"
      ],
      "text/plain": [
       "Matrix([\n",
       "[  x],\n",
       "[  y],\n",
       "[V_x],\n",
       "[V_y]])"
      ]
     },
     "execution_count": 19,
     "metadata": {},
     "output_type": "execute_result"
    }
   ],
   "source": [
    "X = sp.Matrix([[  x  ],\n",
    "               [  y  ],\n",
    "               [ v_x ],\n",
    "               [ v_y ]])\n",
    "X"
   ]
  },
  {
   "cell_type": "code",
   "execution_count": 20,
   "id": "6f8d46a0-1e0a-447b-b8db-2cd4a451123e",
   "metadata": {},
   "outputs": [
    {
     "data": {
      "text/latex": [
       "$\\displaystyle \\left[\\begin{matrix}p_{11} & 0 & p_{13} & 0\\\\0 & p_{22} & 0 & p_{24}\\\\p_{31} & 0 & p_{33} & 0\\\\0 & p_{42} & 0 & p_{44}\\end{matrix}\\right]$"
      ],
      "text/plain": [
       "Matrix([\n",
       "[p_11,    0, p_13,    0],\n",
       "[   0, p_22,    0, p_24],\n",
       "[p_31,    0, p_33,    0],\n",
       "[   0, p_42,    0, p_44]])"
      ]
     },
     "execution_count": 20,
     "metadata": {},
     "output_type": "execute_result"
    }
   ],
   "source": [
    "P = sp.Matrix([[ p11, 0, p13, 0 ],\n",
    "               [ 0, p22, 0, p24 ],\n",
    "               [ p31, 0, p33, 0 ],\n",
    "               [ 0, p42, 0, p44 ]])\n",
    "P"
   ]
  },
  {
   "cell_type": "markdown",
   "id": "b34d195f-bb7f-4256-a53e-da15ab0f044a",
   "metadata": {},
   "source": [
    "# Correction"
   ]
  },
  {
   "cell_type": "code",
   "execution_count": 21,
   "id": "2717a4e6-e265-4ca5-9b9d-2db7f2877dee",
   "metadata": {},
   "outputs": [
    {
     "data": {
      "text/latex": [
       "$\\displaystyle \\left[\\begin{matrix}- x + x_{meas}\\\\- y + y_{meas}\\end{matrix}\\right]$"
      ],
      "text/plain": [
       "Matrix([\n",
       "[-x + x_meas],\n",
       "[-y + y_meas]])"
      ]
     },
     "execution_count": 21,
     "metadata": {},
     "output_type": "execute_result"
    }
   ],
   "source": [
    "Y = Z - (H @ X)\n",
    "Y"
   ]
  },
  {
   "cell_type": "code",
   "execution_count": 22,
   "id": "4994dc91-3c76-4b90-98fb-9fcd747a590a",
   "metadata": {},
   "outputs": [
    {
     "data": {
      "text/latex": [
       "$\\displaystyle \\left[\\begin{matrix}p_{11} + r_{x} & 0\\\\0 & p_{22} + r_{x}\\end{matrix}\\right]$"
      ],
      "text/plain": [
       "Matrix([\n",
       "[p_11 + r_x,          0],\n",
       "[         0, p_22 + r_x]])"
      ]
     },
     "execution_count": 22,
     "metadata": {},
     "output_type": "execute_result"
    }
   ],
   "source": [
    "S = (H @ P @ H.T) + R\n",
    "S"
   ]
  },
  {
   "cell_type": "code",
   "execution_count": 23,
   "id": "64dc6582-c2c0-4249-9db8-4bfbae54ee0e",
   "metadata": {},
   "outputs": [
    {
     "data": {
      "text/latex": [
       "$\\displaystyle \\left[\\begin{matrix}\\frac{p_{11}}{p_{11} + r_{x}} & 0\\\\0 & \\frac{p_{22}}{p_{22} + r_{x}}\\\\\\frac{p_{31}}{p_{11} + r_{x}} & 0\\\\0 & \\frac{p_{42}}{p_{22} + r_{x}}\\end{matrix}\\right]$"
      ],
      "text/plain": [
       "Matrix([\n",
       "[p_11/(p_11 + r_x),                 0],\n",
       "[                0, p_22/(p_22 + r_x)],\n",
       "[p_31/(p_11 + r_x),                 0],\n",
       "[                0, p_42/(p_22 + r_x)]])"
      ]
     },
     "execution_count": 23,
     "metadata": {},
     "output_type": "execute_result"
    }
   ],
   "source": [
    "K = P @ H.T @ S.inv()\n",
    "K"
   ]
  },
  {
   "cell_type": "code",
   "execution_count": 24,
   "id": "33e0a735-5507-41d0-abd7-6cf6fa42e801",
   "metadata": {},
   "outputs": [
    {
     "data": {
      "text/latex": [
       "$\\displaystyle k_{11} = \\frac{p_{11}}{p_{11} + r_{x}}$"
      ],
      "text/plain": [
       "Eq(k_11, p_11/(p_11 + r_x))"
      ]
     },
     "execution_count": 24,
     "metadata": {},
     "output_type": "execute_result"
    }
   ],
   "source": [
    "sp.Eq(k11, K[0,0])"
   ]
  },
  {
   "cell_type": "code",
   "execution_count": 25,
   "id": "c46bf78f-a746-41ea-b7bb-c3d597b2dff4",
   "metadata": {},
   "outputs": [
    {
     "data": {
      "text/latex": [
       "$\\displaystyle k_{22} = \\frac{p_{22}}{p_{22} + r_{x}}$"
      ],
      "text/plain": [
       "Eq(k_22, p_22/(p_22 + r_x))"
      ]
     },
     "execution_count": 25,
     "metadata": {},
     "output_type": "execute_result"
    }
   ],
   "source": [
    "sp.Eq(k22, K[1,1])"
   ]
  },
  {
   "cell_type": "code",
   "execution_count": 26,
   "id": "66fe1aa2-4989-4f0b-b2ab-404bfaaab54a",
   "metadata": {},
   "outputs": [
    {
     "data": {
      "text/latex": [
       "$\\displaystyle k_{31} = \\frac{p_{31}}{p_{11} + r_{x}}$"
      ],
      "text/plain": [
       "Eq(k_31, p_31/(p_11 + r_x))"
      ]
     },
     "execution_count": 26,
     "metadata": {},
     "output_type": "execute_result"
    }
   ],
   "source": [
    "sp.Eq(k31, K[2,0])"
   ]
  },
  {
   "cell_type": "code",
   "execution_count": 27,
   "id": "286908a1-18a7-4d43-bf07-a5fed7728ff6",
   "metadata": {},
   "outputs": [
    {
     "data": {
      "text/latex": [
       "$\\displaystyle k_{42} = \\frac{p_{42}}{p_{22} + r_{x}}$"
      ],
      "text/plain": [
       "Eq(k_42, p_42/(p_22 + r_x))"
      ]
     },
     "execution_count": 27,
     "metadata": {},
     "output_type": "execute_result"
    }
   ],
   "source": [
    "sp.Eq(k42, K[3,1])"
   ]
  },
  {
   "cell_type": "code",
   "execution_count": 28,
   "id": "1008425a-e7a7-4eba-97ca-264adacf7329",
   "metadata": {},
   "outputs": [
    {
     "data": {
      "text/latex": [
       "$\\displaystyle \\left[\\begin{matrix}k_{11} & 0\\\\0 & k_{22}\\\\k_{31} & 0\\\\0 & k_{42}\\end{matrix}\\right]$"
      ],
      "text/plain": [
       "Matrix([\n",
       "[k_11,    0],\n",
       "[   0, k_22],\n",
       "[k_31,    0],\n",
       "[   0, k_42]])"
      ]
     },
     "execution_count": 28,
     "metadata": {},
     "output_type": "execute_result"
    }
   ],
   "source": [
    "K = sp.Matrix([[k11, 0],\n",
    "               [0, k22],\n",
    "               [k31, 0],\n",
    "               [0, k42]])\n",
    "K"
   ]
  },
  {
   "cell_type": "code",
   "execution_count": 29,
   "id": "8d257d2e-a78c-4198-96af-78f2b3dd7d22",
   "metadata": {},
   "outputs": [
    {
     "data": {
      "text/latex": [
       "$\\displaystyle \\left[\\begin{matrix}k_{11} \\left(- x + x_{meas}\\right) + x\\\\k_{22} \\left(- y + y_{meas}\\right) + y\\\\V_{x} + k_{31} \\left(- x + x_{meas}\\right)\\\\V_{y} + k_{42} \\left(- y + y_{meas}\\right)\\end{matrix}\\right]$"
      ],
      "text/plain": [
       "Matrix([\n",
       "[  k_11*(-x + x_meas) + x],\n",
       "[  k_22*(-y + y_meas) + y],\n",
       "[V_x + k_31*(-x + x_meas)],\n",
       "[V_y + k_42*(-y + y_meas)]])"
      ]
     },
     "execution_count": 29,
     "metadata": {},
     "output_type": "execute_result"
    }
   ],
   "source": [
    "X = X + (K @ Y)\n",
    "X"
   ]
  },
  {
   "cell_type": "code",
   "execution_count": 30,
   "id": "0ac3814f-21d8-4e39-b5c8-8b37847a0729",
   "metadata": {},
   "outputs": [
    {
     "data": {
      "text/latex": [
       "$\\displaystyle x = k_{11} \\left(- x + x_{meas}\\right) + x$"
      ],
      "text/plain": [
       "Eq(x, k_11*(-x + x_meas) + x)"
      ]
     },
     "execution_count": 30,
     "metadata": {},
     "output_type": "execute_result"
    }
   ],
   "source": [
    "sp.Eq(x, X[0,0])"
   ]
  },
  {
   "cell_type": "code",
   "execution_count": 31,
   "id": "55b03ba3-b543-4a21-88ad-e40e76378928",
   "metadata": {},
   "outputs": [
    {
     "data": {
      "text/latex": [
       "$\\displaystyle y = k_{22} \\left(- y + y_{meas}\\right) + y$"
      ],
      "text/plain": [
       "Eq(y, k_22*(-y + y_meas) + y)"
      ]
     },
     "execution_count": 31,
     "metadata": {},
     "output_type": "execute_result"
    }
   ],
   "source": [
    "sp.Eq(y, X[1,0])"
   ]
  },
  {
   "cell_type": "code",
   "execution_count": 32,
   "id": "44b1a523-9b4c-43e1-986c-caff3d96f292",
   "metadata": {},
   "outputs": [
    {
     "data": {
      "text/latex": [
       "$\\displaystyle V_{x} = V_{x} + k_{31} \\left(- x + x_{meas}\\right)$"
      ],
      "text/plain": [
       "Eq(V_x, V_x + k_31*(-x + x_meas))"
      ]
     },
     "execution_count": 32,
     "metadata": {},
     "output_type": "execute_result"
    }
   ],
   "source": [
    "sp.Eq(v_x, X[2,0])"
   ]
  },
  {
   "cell_type": "code",
   "execution_count": 33,
   "id": "7215c8ab-b065-4f27-971a-d4a3ae8f1c03",
   "metadata": {},
   "outputs": [
    {
     "data": {
      "text/latex": [
       "$\\displaystyle V_{y} = V_{y} + k_{42} \\left(- y + y_{meas}\\right)$"
      ],
      "text/plain": [
       "Eq(V_y, V_y + k_42*(-y + y_meas))"
      ]
     },
     "execution_count": 33,
     "metadata": {},
     "output_type": "execute_result"
    }
   ],
   "source": [
    "sp.Eq(v_y, X[3,0])"
   ]
  },
  {
   "cell_type": "code",
   "execution_count": 34,
   "id": "049ec3d4-7ad6-4c67-97e9-f98830762f75",
   "metadata": {},
   "outputs": [
    {
     "data": {
      "text/latex": [
       "$\\displaystyle \\left[\\begin{matrix}p_{11} \\cdot \\left(1 - k_{11}\\right) & 0 & p_{13} \\cdot \\left(1 - k_{11}\\right) & 0\\\\0 & p_{22} \\cdot \\left(1 - k_{22}\\right) & 0 & p_{24} \\cdot \\left(1 - k_{22}\\right)\\\\- k_{31} p_{11} + p_{31} & 0 & - k_{31} p_{13} + p_{33} & 0\\\\0 & - k_{42} p_{22} + p_{42} & 0 & - k_{42} p_{24} + p_{44}\\end{matrix}\\right]$"
      ],
      "text/plain": [
       "Matrix([\n",
       "[  p_11*(1 - k_11),                 0,   p_13*(1 - k_11),                 0],\n",
       "[                0,   p_22*(1 - k_22),                 0,   p_24*(1 - k_22)],\n",
       "[-k_31*p_11 + p_31,                 0, -k_31*p_13 + p_33,                 0],\n",
       "[                0, -k_42*p_22 + p_42,                 0, -k_42*p_24 + p_44]])"
      ]
     },
     "execution_count": 34,
     "metadata": {},
     "output_type": "execute_result"
    }
   ],
   "source": [
    "P = (I - (K @ H)) @ P\n",
    "P"
   ]
  },
  {
   "cell_type": "code",
   "execution_count": 35,
   "id": "d82ba0d0-81f8-45e7-a90a-34fbae0788f9",
   "metadata": {},
   "outputs": [
    {
     "data": {
      "text/latex": [
       "$\\displaystyle p_{11} = p_{11} \\cdot \\left(1 - k_{11}\\right)$"
      ],
      "text/plain": [
       "Eq(p_11, p_11*(1 - k_11))"
      ]
     },
     "execution_count": 35,
     "metadata": {},
     "output_type": "execute_result"
    }
   ],
   "source": [
    "sp.Eq(p11, P[0,0])"
   ]
  },
  {
   "cell_type": "code",
   "execution_count": 36,
   "id": "6a04efec-0b24-4688-a1f4-886f29c7faae",
   "metadata": {},
   "outputs": [
    {
     "data": {
      "text/latex": [
       "$\\displaystyle p_{13} = p_{13} \\cdot \\left(1 - k_{11}\\right)$"
      ],
      "text/plain": [
       "Eq(p_13, p_13*(1 - k_11))"
      ]
     },
     "execution_count": 36,
     "metadata": {},
     "output_type": "execute_result"
    }
   ],
   "source": [
    "sp.Eq(p13, P[0,2])"
   ]
  },
  {
   "cell_type": "code",
   "execution_count": 37,
   "id": "883b0172-612b-4f52-9f2e-c97e295c6539",
   "metadata": {},
   "outputs": [
    {
     "data": {
      "text/latex": [
       "$\\displaystyle p_{22} = p_{22} \\cdot \\left(1 - k_{22}\\right)$"
      ],
      "text/plain": [
       "Eq(p_22, p_22*(1 - k_22))"
      ]
     },
     "execution_count": 37,
     "metadata": {},
     "output_type": "execute_result"
    }
   ],
   "source": [
    "sp.Eq(p22, P[1,1])"
   ]
  },
  {
   "cell_type": "code",
   "execution_count": 38,
   "id": "d92b448c-2e16-4cf2-b873-fc46b51ff9b1",
   "metadata": {},
   "outputs": [
    {
     "data": {
      "text/latex": [
       "$\\displaystyle p_{24} = p_{24} \\cdot \\left(1 - k_{22}\\right)$"
      ],
      "text/plain": [
       "Eq(p_24, p_24*(1 - k_22))"
      ]
     },
     "execution_count": 38,
     "metadata": {},
     "output_type": "execute_result"
    }
   ],
   "source": [
    "sp.Eq(p24, P[1,3])"
   ]
  },
  {
   "cell_type": "code",
   "execution_count": 39,
   "id": "d256940f-61b1-4cbe-91e7-2664ea6639a6",
   "metadata": {},
   "outputs": [
    {
     "data": {
      "text/latex": [
       "$\\displaystyle p_{31} = - k_{31} p_{11} + p_{31}$"
      ],
      "text/plain": [
       "Eq(p_31, -k_31*p_11 + p_31)"
      ]
     },
     "execution_count": 39,
     "metadata": {},
     "output_type": "execute_result"
    }
   ],
   "source": [
    "sp.Eq(p31, P[2,0])"
   ]
  },
  {
   "cell_type": "code",
   "execution_count": 40,
   "id": "ff7a3e97-6523-41d2-b469-484ad606ccf8",
   "metadata": {},
   "outputs": [
    {
     "data": {
      "text/latex": [
       "$\\displaystyle p_{33} = - k_{31} p_{13} + p_{33}$"
      ],
      "text/plain": [
       "Eq(p_33, -k_31*p_13 + p_33)"
      ]
     },
     "execution_count": 40,
     "metadata": {},
     "output_type": "execute_result"
    }
   ],
   "source": [
    "sp.Eq(p33, P[2,2])"
   ]
  },
  {
   "cell_type": "code",
   "execution_count": 41,
   "id": "cc1dd0ac-084c-4dde-ba2a-dd5cc0f7e139",
   "metadata": {},
   "outputs": [
    {
     "data": {
      "text/latex": [
       "$\\displaystyle p_{42} = - k_{42} p_{22} + p_{42}$"
      ],
      "text/plain": [
       "Eq(p_42, -k_42*p_22 + p_42)"
      ]
     },
     "execution_count": 41,
     "metadata": {},
     "output_type": "execute_result"
    }
   ],
   "source": [
    "sp.Eq(p42, P[3,1])"
   ]
  },
  {
   "cell_type": "code",
   "execution_count": 42,
   "id": "c2405904-33c0-44b1-8ee1-d5ee5cdcbfd5",
   "metadata": {},
   "outputs": [
    {
     "data": {
      "text/latex": [
       "$\\displaystyle p_{44} = - k_{42} p_{24} + p_{44}$"
      ],
      "text/plain": [
       "Eq(p_44, -k_42*p_24 + p_44)"
      ]
     },
     "execution_count": 42,
     "metadata": {},
     "output_type": "execute_result"
    }
   ],
   "source": [
    "sp.Eq(p44, P[3,3])"
   ]
  }
 ],
 "metadata": {
  "kernelspec": {
   "display_name": "Python 3 (ipykernel)",
   "language": "python",
   "name": "python3"
  },
  "language_info": {
   "codemirror_mode": {
    "name": "ipython",
    "version": 3
   },
   "file_extension": ".py",
   "mimetype": "text/x-python",
   "name": "python",
   "nbconvert_exporter": "python",
   "pygments_lexer": "ipython3",
   "version": "3.10.12"
  }
 },
 "nbformat": 4,
 "nbformat_minor": 5
}
