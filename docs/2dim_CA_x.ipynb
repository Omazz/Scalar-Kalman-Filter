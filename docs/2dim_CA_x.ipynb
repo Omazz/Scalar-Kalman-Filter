{
 "cells": [
  {
   "cell_type": "code",
   "execution_count": 1,
   "id": "2f25c471-6e60-416d-af40-c7b88a14edc3",
   "metadata": {},
   "outputs": [],
   "source": [
    "import sympy as sp\n",
    "import IPython.display as display\n",
    "import nbconvert as nbc"
   ]
  },
  {
   "cell_type": "markdown",
   "id": "9c0015b2-5670-4d1b-81aa-8b4124520097",
   "metadata": {},
   "source": [
    "# CA: Measurement contains only measured value (without velocity or acceleration)"
   ]
  },
  {
   "cell_type": "code",
   "execution_count": 2,
   "id": "1580d647-3533-40fb-b882-0a3c9db10621",
   "metadata": {},
   "outputs": [],
   "source": [
    "x, y, v_x, v_y, a_x, a_y, x_meas, y_meas, dt = sp.symbols('x y V_x V_y a_x a_y x_meas y_meas dt')\n",
    "\n",
    "# R matrix\n",
    "r_x = sp.symbols('r_x') # R\n",
    "\n",
    "# Q matrix\n",
    "q_j = sp.symbols('q_j')\n",
    "q11, q13, q15, q22, q24, q26, q31, q33, q35, q42, q44, q46, q51, q53, q55, q62, q64, q66 \\\n",
    "    = sp.symbols(\"q_11 q_13 q_15 q_22 q_24 q_26 q_31 q_33 q_35 q_42 q_44 q_46 q_51 q_53 q_55 q_62 q_64 q_66\")\n",
    "\n",
    "# K matrix\n",
    "k11, k22, k31, k42, k51, k62 \\\n",
    "    = sp.symbols(\"k_11 k_22 k_31 k_42 k_51 k_62\")\n",
    "\n",
    "# P matrix\n",
    "p11, p13, p15, p22, p24, p26, p31, p33, p35, p42, p44, p46, p51, p53, p55, p62, p64, p66 \\\n",
    "    = sp.symbols(\"p_11 p_13 p_15 p_22 p_24 p_26 p_31 p_33 p_35 p_42 p_44 p_46 p_51 p_53 p_55 p_62 p_64 p_66\")\n",
    "\n",
    "\n",
    "I = sp.Matrix([[ 1, 0, 0, 0, 0, 0 ],\n",
    "               [ 0, 1, 0, 0, 0, 0 ],\n",
    "               [ 0, 0, 1, 0, 0, 0 ],\n",
    "               [ 0, 0, 0, 1, 0, 0 ],\n",
    "               [ 0, 0, 0, 0, 1, 0 ],\n",
    "               [ 0, 0, 0, 0, 0, 1 ]])"
   ]
  },
  {
   "cell_type": "code",
   "execution_count": 3,
   "id": "997416ec-f302-4f08-af6f-4b7fdf680e38",
   "metadata": {},
   "outputs": [
    {
     "data": {
      "text/latex": [
       "$\\displaystyle \\left[\\begin{matrix}\\frac{dt^{6} q_{j}}{36} & 0 & \\frac{dt^{5} q_{j}}{12} & 0 & \\frac{dt^{4} q_{j}}{6} & 0\\\\0 & \\frac{dt^{6} q_{j}}{36} & 0 & \\frac{dt^{5} q_{j}}{12} & 0 & \\frac{dt^{4} q_{j}}{6}\\\\\\frac{dt^{5} q_{j}}{12} & 0 & \\frac{dt^{4} q_{j}}{4} & 0 & \\frac{dt^{3} q_{j}}{2} & 0\\\\0 & \\frac{dt^{5} q_{j}}{12} & 0 & \\frac{dt^{4} q_{j}}{4} & 0 & \\frac{dt^{3} q_{j}}{2}\\\\\\frac{dt^{4} q_{j}}{6} & 0 & \\frac{dt^{3} q_{j}}{2} & 0 & dt^{2} q_{j} & 0\\\\0 & \\frac{dt^{4} q_{j}}{6} & 0 & \\frac{dt^{3} q_{j}}{2} & 0 & dt^{2} q_{j}\\end{matrix}\\right]$"
      ],
      "text/plain": [
       "Matrix([\n",
       "[dt**6*q_j/36,            0, dt**5*q_j/12,            0, dt**4*q_j/6,           0],\n",
       "[           0, dt**6*q_j/36,            0, dt**5*q_j/12,           0, dt**4*q_j/6],\n",
       "[dt**5*q_j/12,            0,  dt**4*q_j/4,            0, dt**3*q_j/2,           0],\n",
       "[           0, dt**5*q_j/12,            0,  dt**4*q_j/4,           0, dt**3*q_j/2],\n",
       "[ dt**4*q_j/6,            0,  dt**3*q_j/2,            0,   dt**2*q_j,           0],\n",
       "[           0,  dt**4*q_j/6,            0,  dt**3*q_j/2,           0,   dt**2*q_j]])"
      ]
     },
     "execution_count": 3,
     "metadata": {},
     "output_type": "execute_result"
    }
   ],
   "source": [
    "X = sp.Matrix([[  x  ],\n",
    "               [  y  ],\n",
    "               [ v_x ],\n",
    "               [ v_y ],\n",
    "               [ a_x ],\n",
    "               [ a_y ]])\n",
    "\n",
    "Z = sp.Matrix([[ x_meas ],\n",
    "               [ y_meas ]])\n",
    "\n",
    "H = sp.Matrix([[ 1, 0, 0, 0, 0, 0 ], \n",
    "               [ 0, 1, 0, 0, 0, 0 ]])\n",
    "\n",
    "F = sp.Matrix([[ 1, 0, dt,  0, (dt ** 2) / 2.,            0  ],\n",
    "               [ 0, 1,  0, dt,             0, (dt ** 2) / 2. ],\n",
    "               [ 0, 0,  1,  0,            dt,             0  ],\n",
    "               [ 0, 0,  0,  1,             0,            dt  ],\n",
    "               [ 0, 0,  0,  0,             1,             0  ],\n",
    "               [ 0, 0,  0,  0,             0,             1  ]])\n",
    "\n",
    "GGt = sp.Matrix([[(dt**6)/36,          0, (dt**5)/12,          0, (dt**4)/6,         0],\n",
    "                 [         0, (dt**6)/36,          0, (dt**5)/12,         0, (dt**4)/6],\n",
    "                 [(dt**5)/12,          0,  (dt**4)/4,          0, (dt**3)/2,         0],\n",
    "                 [         0, (dt**5)/12,          0,  (dt**4)/4,         0, (dt**3)/2],\n",
    "                 [ (dt**4)/6,          0,  (dt**3)/2,          0,   (dt**2),         0],\n",
    "                 [         0,  (dt**4)/6,          0,  (dt**3)/2,         0,    (dt**2)]])\n",
    "\n",
    "R = sp.Matrix([[ r_x, 0 ],\n",
    "               [ 0, r_x ]])\n",
    "\n",
    "P = sp.Matrix([[ p11,   0, p13,   0, p15,   0 ],\n",
    "               [   0, p22,   0, p24,   0, p26 ],\n",
    "               [ p31,   0, p33,   0, p35,   0 ],\n",
    "               [   0, p42,   0, p44,   0, p46 ],\n",
    "               [ p51,   0, p53,   0, p55,   0 ],\n",
    "               [   0, p62,   0, p64,   0, p66 ]])\n",
    "\n",
    "Q = GGt * q_j\n",
    "Q"
   ]
  },
  {
   "cell_type": "code",
   "execution_count": 4,
   "id": "a986fa2f-9800-4571-ab1d-60fdb5296ccc",
   "metadata": {},
   "outputs": [
    {
     "data": {
      "text/latex": [
       "$\\displaystyle q_{11} = \\frac{dt^{6} q_{j}}{36}$"
      ],
      "text/plain": [
       "Eq(q_11, dt**6*q_j/36)"
      ]
     },
     "execution_count": 4,
     "metadata": {},
     "output_type": "execute_result"
    }
   ],
   "source": [
    "sp.Eq(q11, Q[0,0])"
   ]
  },
  {
   "cell_type": "code",
   "execution_count": 5,
   "id": "56f34381-4be2-4470-aea0-beeba1d784cb",
   "metadata": {},
   "outputs": [
    {
     "data": {
      "text/latex": [
       "$\\displaystyle q_{13} = \\frac{dt^{5} q_{j}}{12}$"
      ],
      "text/plain": [
       "Eq(q_13, dt**5*q_j/12)"
      ]
     },
     "execution_count": 5,
     "metadata": {},
     "output_type": "execute_result"
    }
   ],
   "source": [
    "sp.Eq(q13, Q[0,2])"
   ]
  },
  {
   "cell_type": "code",
   "execution_count": 6,
   "id": "8dcb9bc2-a417-4082-868f-cc0cb78832c5",
   "metadata": {},
   "outputs": [
    {
     "data": {
      "text/latex": [
       "$\\displaystyle q_{15} = \\frac{dt^{4} q_{j}}{6}$"
      ],
      "text/plain": [
       "Eq(q_15, dt**4*q_j/6)"
      ]
     },
     "execution_count": 6,
     "metadata": {},
     "output_type": "execute_result"
    }
   ],
   "source": [
    "sp.Eq(q15, Q[0,4])"
   ]
  },
  {
   "cell_type": "code",
   "execution_count": 7,
   "id": "5d5d25b5-c495-41ab-ba12-9ddd9340422b",
   "metadata": {},
   "outputs": [
    {
     "data": {
      "text/latex": [
       "$\\displaystyle q_{22} = \\frac{dt^{6} q_{j}}{36}$"
      ],
      "text/plain": [
       "Eq(q_22, dt**6*q_j/36)"
      ]
     },
     "execution_count": 7,
     "metadata": {},
     "output_type": "execute_result"
    }
   ],
   "source": [
    "sp.Eq(q22, Q[1,1])"
   ]
  },
  {
   "cell_type": "code",
   "execution_count": 8,
   "id": "15854921-1995-45d4-ac03-518cffb36c45",
   "metadata": {},
   "outputs": [
    {
     "data": {
      "text/latex": [
       "$\\displaystyle q_{24} = \\frac{dt^{5} q_{j}}{12}$"
      ],
      "text/plain": [
       "Eq(q_24, dt**5*q_j/12)"
      ]
     },
     "execution_count": 8,
     "metadata": {},
     "output_type": "execute_result"
    }
   ],
   "source": [
    "sp.Eq(q24, Q[1,3])"
   ]
  },
  {
   "cell_type": "code",
   "execution_count": 9,
   "id": "550288c4-a359-42be-97bb-52454d87e890",
   "metadata": {},
   "outputs": [
    {
     "data": {
      "text/latex": [
       "$\\displaystyle q_{26} = \\frac{dt^{4} q_{j}}{6}$"
      ],
      "text/plain": [
       "Eq(q_26, dt**4*q_j/6)"
      ]
     },
     "execution_count": 9,
     "metadata": {},
     "output_type": "execute_result"
    }
   ],
   "source": [
    "sp.Eq(q26, Q[1,5])"
   ]
  },
  {
   "cell_type": "code",
   "execution_count": 10,
   "id": "cd966946-bdb7-403f-a8d6-46c502a6f768",
   "metadata": {},
   "outputs": [
    {
     "data": {
      "text/latex": [
       "$\\displaystyle q_{31} = \\frac{dt^{5} q_{j}}{12}$"
      ],
      "text/plain": [
       "Eq(q_31, dt**5*q_j/12)"
      ]
     },
     "execution_count": 10,
     "metadata": {},
     "output_type": "execute_result"
    }
   ],
   "source": [
    "sp.Eq(q31, Q[2,0])"
   ]
  },
  {
   "cell_type": "code",
   "execution_count": 11,
   "id": "197eb892-73d2-4b1a-9596-6153a8f8a933",
   "metadata": {},
   "outputs": [
    {
     "data": {
      "text/latex": [
       "$\\displaystyle q_{33} = \\frac{dt^{4} q_{j}}{4}$"
      ],
      "text/plain": [
       "Eq(q_33, dt**4*q_j/4)"
      ]
     },
     "execution_count": 11,
     "metadata": {},
     "output_type": "execute_result"
    }
   ],
   "source": [
    "sp.Eq(q33, Q[2,2])"
   ]
  },
  {
   "cell_type": "code",
   "execution_count": 12,
   "id": "be0723ac-78cb-4371-bbae-5f1d65d8096b",
   "metadata": {},
   "outputs": [
    {
     "data": {
      "text/latex": [
       "$\\displaystyle q_{35} = \\frac{dt^{3} q_{j}}{2}$"
      ],
      "text/plain": [
       "Eq(q_35, dt**3*q_j/2)"
      ]
     },
     "execution_count": 12,
     "metadata": {},
     "output_type": "execute_result"
    }
   ],
   "source": [
    "sp.Eq(q35, Q[2,4])"
   ]
  },
  {
   "cell_type": "code",
   "execution_count": 13,
   "id": "ff0b51bb-4f0d-4c1a-ae55-34b5d599144e",
   "metadata": {},
   "outputs": [
    {
     "data": {
      "text/latex": [
       "$\\displaystyle q_{42} = \\frac{dt^{5} q_{j}}{12}$"
      ],
      "text/plain": [
       "Eq(q_42, dt**5*q_j/12)"
      ]
     },
     "execution_count": 13,
     "metadata": {},
     "output_type": "execute_result"
    }
   ],
   "source": [
    "sp.Eq(q42, Q[3,1])"
   ]
  },
  {
   "cell_type": "code",
   "execution_count": 14,
   "id": "097f3a94-f74e-4de2-af17-87dfbf6252ca",
   "metadata": {},
   "outputs": [
    {
     "data": {
      "text/latex": [
       "$\\displaystyle q_{44} = \\frac{dt^{4} q_{j}}{4}$"
      ],
      "text/plain": [
       "Eq(q_44, dt**4*q_j/4)"
      ]
     },
     "execution_count": 14,
     "metadata": {},
     "output_type": "execute_result"
    }
   ],
   "source": [
    "sp.Eq(q44, Q[3,3])"
   ]
  },
  {
   "cell_type": "code",
   "execution_count": 15,
   "id": "6534a3de-9408-4746-8007-dabd3282fcb1",
   "metadata": {},
   "outputs": [
    {
     "data": {
      "text/latex": [
       "$\\displaystyle q_{46} = \\frac{dt^{3} q_{j}}{2}$"
      ],
      "text/plain": [
       "Eq(q_46, dt**3*q_j/2)"
      ]
     },
     "execution_count": 15,
     "metadata": {},
     "output_type": "execute_result"
    }
   ],
   "source": [
    "sp.Eq(q46, Q[3,5])"
   ]
  },
  {
   "cell_type": "code",
   "execution_count": 16,
   "id": "ead6f4c1-7728-4a3f-a20a-0954050d1f7b",
   "metadata": {},
   "outputs": [
    {
     "data": {
      "text/latex": [
       "$\\displaystyle q_{51} = \\frac{dt^{4} q_{j}}{6}$"
      ],
      "text/plain": [
       "Eq(q_51, dt**4*q_j/6)"
      ]
     },
     "execution_count": 16,
     "metadata": {},
     "output_type": "execute_result"
    }
   ],
   "source": [
    "sp.Eq(q51, Q[4,0])"
   ]
  },
  {
   "cell_type": "code",
   "execution_count": 17,
   "id": "27888e1c-afcc-42c8-823a-0eae24ad5283",
   "metadata": {},
   "outputs": [
    {
     "data": {
      "text/latex": [
       "$\\displaystyle q_{53} = \\frac{dt^{3} q_{j}}{2}$"
      ],
      "text/plain": [
       "Eq(q_53, dt**3*q_j/2)"
      ]
     },
     "execution_count": 17,
     "metadata": {},
     "output_type": "execute_result"
    }
   ],
   "source": [
    "sp.Eq(q53, Q[4,2])"
   ]
  },
  {
   "cell_type": "code",
   "execution_count": 18,
   "id": "d5f6ca71-4b06-4036-8d41-871e41b25d43",
   "metadata": {},
   "outputs": [
    {
     "data": {
      "text/latex": [
       "$\\displaystyle q_{55} = dt^{2} q_{j}$"
      ],
      "text/plain": [
       "Eq(q_55, dt**2*q_j)"
      ]
     },
     "execution_count": 18,
     "metadata": {},
     "output_type": "execute_result"
    }
   ],
   "source": [
    "sp.Eq(q55, Q[4,4])"
   ]
  },
  {
   "cell_type": "code",
   "execution_count": 19,
   "id": "ed8a9a81-8a77-46a9-a123-aeeba2309da6",
   "metadata": {},
   "outputs": [
    {
     "data": {
      "text/latex": [
       "$\\displaystyle q_{62} = \\frac{dt^{4} q_{j}}{6}$"
      ],
      "text/plain": [
       "Eq(q_62, dt**4*q_j/6)"
      ]
     },
     "execution_count": 19,
     "metadata": {},
     "output_type": "execute_result"
    }
   ],
   "source": [
    "sp.Eq(q62, Q[5,1])"
   ]
  },
  {
   "cell_type": "code",
   "execution_count": 20,
   "id": "582d158d-e060-493a-8d31-0cba1f15fb28",
   "metadata": {},
   "outputs": [
    {
     "data": {
      "text/latex": [
       "$\\displaystyle q_{64} = \\frac{dt^{3} q_{j}}{2}$"
      ],
      "text/plain": [
       "Eq(q_64, dt**3*q_j/2)"
      ]
     },
     "execution_count": 20,
     "metadata": {},
     "output_type": "execute_result"
    }
   ],
   "source": [
    "sp.Eq(q64, Q[5,3])"
   ]
  },
  {
   "cell_type": "code",
   "execution_count": 21,
   "id": "b1da682b-f3b1-412c-ac18-681532f03ac0",
   "metadata": {},
   "outputs": [
    {
     "data": {
      "text/latex": [
       "$\\displaystyle q_{66} = dt^{2} q_{j}$"
      ],
      "text/plain": [
       "Eq(q_66, dt**2*q_j)"
      ]
     },
     "execution_count": 21,
     "metadata": {},
     "output_type": "execute_result"
    }
   ],
   "source": [
    "sp.Eq(q66, Q[5,5])"
   ]
  },
  {
   "cell_type": "code",
   "execution_count": 22,
   "id": "78622fa6-99d8-40d4-a2f9-d85655bf55bb",
   "metadata": {},
   "outputs": [
    {
     "data": {
      "text/latex": [
       "$\\displaystyle \\left[\\begin{matrix}q_{11} & 0 & q_{13} & 0 & q_{15} & 0\\\\0 & q_{22} & 0 & q_{24} & 0 & q_{26}\\\\q_{31} & 0 & q_{33} & 0 & q_{35} & 0\\\\0 & q_{42} & 0 & q_{44} & 0 & q_{46}\\\\q_{51} & 0 & q_{53} & 0 & q_{55} & 0\\\\0 & q_{62} & 0 & q_{64} & 0 & q_{66}\\end{matrix}\\right]$"
      ],
      "text/plain": [
       "Matrix([\n",
       "[q_11,    0, q_13,    0, q_15,    0],\n",
       "[   0, q_22,    0, q_24,    0, q_26],\n",
       "[q_31,    0, q_33,    0, q_35,    0],\n",
       "[   0, q_42,    0, q_44,    0, q_46],\n",
       "[q_51,    0, q_53,    0, q_55,    0],\n",
       "[   0, q_62,    0, q_64,    0, q_66]])"
      ]
     },
     "execution_count": 22,
     "metadata": {},
     "output_type": "execute_result"
    }
   ],
   "source": [
    "Q = sp.Matrix([[q11,   0, q13,   0, q15,   0],\n",
    "               [  0, q22,   0, q24,   0, q26],\n",
    "               [q31,   0, q33,   0, q35,   0],\n",
    "               [  0, q42,   0, q44,   0, q46],\n",
    "               [q51,   0, q53,   0, q55,   0],\n",
    "               [  0, q62,   0, q64,   0, q66]])\n",
    "Q"
   ]
  },
  {
   "cell_type": "code",
   "execution_count": 23,
   "id": "2b156977-5d14-43c5-92b8-3ff96f594699",
   "metadata": {},
   "outputs": [
    {
     "data": {
      "text/latex": [
       "$\\displaystyle \\left[\\begin{matrix}p_{11} & 0 & p_{13} & 0 & p_{15} & 0\\\\0 & p_{22} & 0 & p_{24} & 0 & p_{26}\\\\p_{31} & 0 & p_{33} & 0 & p_{35} & 0\\\\0 & p_{42} & 0 & p_{44} & 0 & p_{46}\\\\p_{51} & 0 & p_{53} & 0 & p_{55} & 0\\\\0 & p_{62} & 0 & p_{64} & 0 & p_{66}\\end{matrix}\\right]$"
      ],
      "text/plain": [
       "Matrix([\n",
       "[p_11,    0, p_13,    0, p_15,    0],\n",
       "[   0, p_22,    0, p_24,    0, p_26],\n",
       "[p_31,    0, p_33,    0, p_35,    0],\n",
       "[   0, p_42,    0, p_44,    0, p_46],\n",
       "[p_51,    0, p_53,    0, p_55,    0],\n",
       "[   0, p_62,    0, p_64,    0, p_66]])"
      ]
     },
     "execution_count": 23,
     "metadata": {},
     "output_type": "execute_result"
    }
   ],
   "source": [
    "P"
   ]
  },
  {
   "cell_type": "code",
   "execution_count": 24,
   "id": "9e06b62f-9939-47ae-b115-08d847cbeeda",
   "metadata": {},
   "outputs": [
    {
     "data": {
      "text/latex": [
       "$\\displaystyle \\left[\\begin{matrix}r_{x} & 0\\\\0 & r_{x}\\end{matrix}\\right]$"
      ],
      "text/plain": [
       "Matrix([\n",
       "[r_x,   0],\n",
       "[  0, r_x]])"
      ]
     },
     "execution_count": 24,
     "metadata": {},
     "output_type": "execute_result"
    }
   ],
   "source": [
    "R"
   ]
  },
  {
   "cell_type": "code",
   "execution_count": 25,
   "id": "bdaf1645-52da-4630-8c10-62db4dda8bf2",
   "metadata": {},
   "outputs": [
    {
     "data": {
      "text/latex": [
       "$\\displaystyle \\left[\\begin{matrix}x\\\\y\\\\V_{x}\\\\V_{y}\\\\a_{x}\\\\a_{y}\\end{matrix}\\right]$"
      ],
      "text/plain": [
       "Matrix([\n",
       "[  x],\n",
       "[  y],\n",
       "[V_x],\n",
       "[V_y],\n",
       "[a_x],\n",
       "[a_y]])"
      ]
     },
     "execution_count": 25,
     "metadata": {},
     "output_type": "execute_result"
    }
   ],
   "source": [
    "X"
   ]
  },
  {
   "cell_type": "code",
   "execution_count": 26,
   "id": "53bb5dfa-e9df-4fe0-a326-c0375371cd95",
   "metadata": {},
   "outputs": [
    {
     "data": {
      "text/latex": [
       "$\\displaystyle \\left[\\begin{matrix}x_{meas}\\\\y_{meas}\\end{matrix}\\right]$"
      ],
      "text/plain": [
       "Matrix([\n",
       "[x_meas],\n",
       "[y_meas]])"
      ]
     },
     "execution_count": 26,
     "metadata": {},
     "output_type": "execute_result"
    }
   ],
   "source": [
    "Z"
   ]
  },
  {
   "cell_type": "code",
   "execution_count": 27,
   "id": "0ba7160b-a282-4ed0-ab50-4b7426b9720a",
   "metadata": {},
   "outputs": [
    {
     "data": {
      "text/latex": [
       "$\\displaystyle \\left[\\begin{matrix}1 & 0 & 0 & 0 & 0 & 0\\\\0 & 1 & 0 & 0 & 0 & 0\\end{matrix}\\right]$"
      ],
      "text/plain": [
       "Matrix([\n",
       "[1, 0, 0, 0, 0, 0],\n",
       "[0, 1, 0, 0, 0, 0]])"
      ]
     },
     "execution_count": 27,
     "metadata": {},
     "output_type": "execute_result"
    }
   ],
   "source": [
    "H"
   ]
  },
  {
   "cell_type": "markdown",
   "id": "e2f07e6a-11f8-470f-ae9b-baf158f51a72",
   "metadata": {},
   "source": [
    "# Прогнозирование"
   ]
  },
  {
   "cell_type": "code",
   "execution_count": 28,
   "id": "28de2a4d-8d50-4866-a4bc-356c7bb043b9",
   "metadata": {},
   "outputs": [
    {
     "data": {
      "text/latex": [
       "$\\displaystyle \\left[\\begin{matrix}V_{x} dt + 0.5 a_{x} dt^{2} + x\\\\V_{y} dt + 0.5 a_{y} dt^{2} + y\\\\V_{x} + a_{x} dt\\\\V_{y} + a_{y} dt\\\\a_{x}\\\\a_{y}\\end{matrix}\\right]$"
      ],
      "text/plain": [
       "Matrix([\n",
       "[V_x*dt + 0.5*a_x*dt**2 + x],\n",
       "[V_y*dt + 0.5*a_y*dt**2 + y],\n",
       "[              V_x + a_x*dt],\n",
       "[              V_y + a_y*dt],\n",
       "[                       a_x],\n",
       "[                       a_y]])"
      ]
     },
     "execution_count": 28,
     "metadata": {},
     "output_type": "execute_result"
    }
   ],
   "source": [
    "X = F @ X\n",
    "X"
   ]
  },
  {
   "cell_type": "code",
   "execution_count": 29,
   "id": "521c2933-638a-43ab-9940-28f53defeec3",
   "metadata": {},
   "outputs": [
    {
     "data": {
      "text/latex": [
       "$\\displaystyle \\left[\\begin{matrix}0.5 dt^{2} p_{51} + 0.5 dt^{2} \\cdot \\left(0.5 dt^{2} p_{55} + dt p_{35} + p_{15}\\right) + dt p_{31} + dt \\left(0.5 dt^{2} p_{53} + dt p_{33} + p_{13}\\right) + p_{11} + q_{11} & 0 & 0.5 dt^{2} p_{53} + dt p_{33} + dt \\left(0.5 dt^{2} p_{55} + dt p_{35} + p_{15}\\right) + p_{13} + q_{13} & 0 & 0.5 dt^{2} p_{55} + dt p_{35} + p_{15} + q_{15} & 0\\\\0 & 0.5 dt^{2} p_{62} + 0.5 dt^{2} \\cdot \\left(0.5 dt^{2} p_{66} + dt p_{46} + p_{26}\\right) + dt p_{42} + dt \\left(0.5 dt^{2} p_{64} + dt p_{44} + p_{24}\\right) + p_{22} + q_{22} & 0 & 0.5 dt^{2} p_{64} + dt p_{44} + dt \\left(0.5 dt^{2} p_{66} + dt p_{46} + p_{26}\\right) + p_{24} + q_{24} & 0 & 0.5 dt^{2} p_{66} + dt p_{46} + p_{26} + q_{26}\\\\0.5 dt^{2} \\left(dt p_{55} + p_{35}\\right) + dt p_{51} + dt \\left(dt p_{53} + p_{33}\\right) + p_{31} + q_{31} & 0 & dt p_{53} + dt \\left(dt p_{55} + p_{35}\\right) + p_{33} + q_{33} & 0 & dt p_{55} + p_{35} + q_{35} & 0\\\\0 & 0.5 dt^{2} \\left(dt p_{66} + p_{46}\\right) + dt p_{62} + dt \\left(dt p_{64} + p_{44}\\right) + p_{42} + q_{42} & 0 & dt p_{64} + dt \\left(dt p_{66} + p_{46}\\right) + p_{44} + q_{44} & 0 & dt p_{66} + p_{46} + q_{46}\\\\0.5 dt^{2} p_{55} + dt p_{53} + p_{51} + q_{51} & 0 & dt p_{55} + p_{53} + q_{53} & 0 & p_{55} + q_{55} & 0\\\\0 & 0.5 dt^{2} p_{66} + dt p_{64} + p_{62} + q_{62} & 0 & dt p_{66} + p_{64} + q_{64} & 0 & p_{66} + q_{66}\\end{matrix}\\right]$"
      ],
      "text/plain": [
       "Matrix([\n",
       "[0.5*dt**2*p_51 + 0.5*dt**2*(0.5*dt**2*p_55 + dt*p_35 + p_15) + dt*p_31 + dt*(0.5*dt**2*p_53 + dt*p_33 + p_13) + p_11 + q_11,                                                                                                                           0, 0.5*dt**2*p_53 + dt*p_33 + dt*(0.5*dt**2*p_55 + dt*p_35 + p_15) + p_13 + q_13,                                                                             0, 0.5*dt**2*p_55 + dt*p_35 + p_15 + q_15,                                      0],\n",
       "[                                                                                                                          0, 0.5*dt**2*p_62 + 0.5*dt**2*(0.5*dt**2*p_66 + dt*p_46 + p_26) + dt*p_42 + dt*(0.5*dt**2*p_64 + dt*p_44 + p_24) + p_22 + q_22,                                                                             0, 0.5*dt**2*p_64 + dt*p_44 + dt*(0.5*dt**2*p_66 + dt*p_46 + p_26) + p_24 + q_24,                                      0, 0.5*dt**2*p_66 + dt*p_46 + p_26 + q_26],\n",
       "[                                                   0.5*dt**2*(dt*p_55 + p_35) + dt*p_51 + dt*(dt*p_53 + p_33) + p_31 + q_31,                                                                                                                           0,                                   dt*p_53 + dt*(dt*p_55 + p_35) + p_33 + q_33,                                                                             0,                  dt*p_55 + p_35 + q_35,                                      0],\n",
       "[                                                                                                                          0,                                                    0.5*dt**2*(dt*p_66 + p_46) + dt*p_62 + dt*(dt*p_64 + p_44) + p_42 + q_42,                                                                             0,                                   dt*p_64 + dt*(dt*p_66 + p_46) + p_44 + q_44,                                      0,                  dt*p_66 + p_46 + q_46],\n",
       "[                                                                                     0.5*dt**2*p_55 + dt*p_53 + p_51 + q_51,                                                                                                                           0,                                                         dt*p_55 + p_53 + q_53,                                                                             0,                            p_55 + q_55,                                      0],\n",
       "[                                                                                                                          0,                                                                                      0.5*dt**2*p_66 + dt*p_64 + p_62 + q_62,                                                                             0,                                                         dt*p_66 + p_64 + q_64,                                      0,                            p_66 + q_66]])"
      ]
     },
     "execution_count": 29,
     "metadata": {},
     "output_type": "execute_result"
    }
   ],
   "source": [
    "P = F @ P @ F.T + Q\n",
    "P"
   ]
  },
  {
   "cell_type": "code",
   "execution_count": 30,
   "id": "7f18a18d-70a3-4a62-965a-70f4e8a01291",
   "metadata": {},
   "outputs": [
    {
     "data": {
      "text/latex": [
       "$\\displaystyle p_{11} = dt^{2} \\cdot \\left(0.25 dt^{2} p_{55} + 0.5 dt p_{35} + 0.5 p_{15} + 0.5 p_{51}\\right) + dt \\left(0.5 dt^{2} p_{53} + dt p_{33} + p_{13} + p_{31}\\right) + p_{11} + q_{11}$"
      ],
      "text/plain": [
       "Eq(p_11, dt**2*(0.25*dt**2*p_55 + 0.5*dt*p_35 + 0.5*p_15 + 0.5*p_51) + dt*(0.5*dt**2*p_53 + dt*p_33 + p_13 + p_31) + p_11 + q_11)"
      ]
     },
     "execution_count": 30,
     "metadata": {},
     "output_type": "execute_result"
    }
   ],
   "source": [
    "sp.Eq(p11, sp.collect(P[0,0], dt)) # p11"
   ]
  },
  {
   "cell_type": "code",
   "execution_count": 31,
   "id": "b1aa7e04-469a-457b-938e-0872cda91c50",
   "metadata": {},
   "outputs": [
    {
     "data": {
      "text/latex": [
       "$\\displaystyle p_{13} = 0.5 dt^{2} p_{53} + dt \\left(0.5 dt^{2} p_{55} + dt p_{35} + p_{15} + p_{33}\\right) + p_{13} + q_{13}$"
      ],
      "text/plain": [
       "Eq(p_13, 0.5*dt**2*p_53 + dt*(0.5*dt**2*p_55 + dt*p_35 + p_15 + p_33) + p_13 + q_13)"
      ]
     },
     "execution_count": 31,
     "metadata": {},
     "output_type": "execute_result"
    }
   ],
   "source": [
    "sp.Eq(p13, sp.collect(P[0,2], dt)) # p13"
   ]
  },
  {
   "cell_type": "code",
   "execution_count": 32,
   "id": "19528e27-cc71-421d-b626-0efb4d8a0699",
   "metadata": {},
   "outputs": [
    {
     "data": {
      "text/latex": [
       "$\\displaystyle p_{15} = 0.5 dt^{2} p_{55} + dt p_{35} + p_{15} + q_{15}$"
      ],
      "text/plain": [
       "Eq(p_15, 0.5*dt**2*p_55 + dt*p_35 + p_15 + q_15)"
      ]
     },
     "execution_count": 32,
     "metadata": {},
     "output_type": "execute_result"
    }
   ],
   "source": [
    "sp.Eq(p15, sp.collect(P[0,4], dt)) # p15"
   ]
  },
  {
   "cell_type": "code",
   "execution_count": 33,
   "id": "c65208a7-d990-4c9a-9e66-83ef58a8c8c1",
   "metadata": {},
   "outputs": [
    {
     "data": {
      "text/latex": [
       "$\\displaystyle p_{22} = dt^{2} \\cdot \\left(0.25 dt^{2} p_{66} + 0.5 dt p_{46} + 0.5 p_{26} + 0.5 p_{62}\\right) + dt \\left(0.5 dt^{2} p_{64} + dt p_{44} + p_{24} + p_{42}\\right) + p_{22} + q_{22}$"
      ],
      "text/plain": [
       "Eq(p_22, dt**2*(0.25*dt**2*p_66 + 0.5*dt*p_46 + 0.5*p_26 + 0.5*p_62) + dt*(0.5*dt**2*p_64 + dt*p_44 + p_24 + p_42) + p_22 + q_22)"
      ]
     },
     "execution_count": 33,
     "metadata": {},
     "output_type": "execute_result"
    }
   ],
   "source": [
    "sp.Eq(p22, sp.collect(P[1,1], dt)) # p22"
   ]
  },
  {
   "cell_type": "code",
   "execution_count": 34,
   "id": "fbb31ebf-6799-41d7-adae-b959ced0e565",
   "metadata": {},
   "outputs": [
    {
     "data": {
      "text/latex": [
       "$\\displaystyle p_{24} = 0.5 dt^{2} p_{64} + dt \\left(0.5 dt^{2} p_{66} + dt p_{46} + p_{26} + p_{44}\\right) + p_{24} + q_{24}$"
      ],
      "text/plain": [
       "Eq(p_24, 0.5*dt**2*p_64 + dt*(0.5*dt**2*p_66 + dt*p_46 + p_26 + p_44) + p_24 + q_24)"
      ]
     },
     "execution_count": 34,
     "metadata": {},
     "output_type": "execute_result"
    }
   ],
   "source": [
    "sp.Eq(p24, sp.collect(P[1,3], dt)) # p24"
   ]
  },
  {
   "cell_type": "code",
   "execution_count": 35,
   "id": "87ec972d-e034-4ed2-856c-fc3e978fa46d",
   "metadata": {},
   "outputs": [
    {
     "data": {
      "text/latex": [
       "$\\displaystyle p_{26} = 0.5 dt^{2} p_{66} + dt p_{46} + p_{26} + q_{26}$"
      ],
      "text/plain": [
       "Eq(p_26, 0.5*dt**2*p_66 + dt*p_46 + p_26 + q_26)"
      ]
     },
     "execution_count": 35,
     "metadata": {},
     "output_type": "execute_result"
    }
   ],
   "source": [
    "sp.Eq(p26, sp.collect(P[1,5], dt)) # p26"
   ]
  },
  {
   "cell_type": "code",
   "execution_count": 36,
   "id": "45adfbfb-ecd1-46c5-818f-487ae15a8f13",
   "metadata": {},
   "outputs": [
    {
     "data": {
      "text/latex": [
       "$\\displaystyle p_{31} = dt^{2} \\cdot \\left(0.5 dt p_{55} + 0.5 p_{35}\\right) + dt \\left(dt p_{53} + p_{33} + p_{51}\\right) + p_{31} + q_{31}$"
      ],
      "text/plain": [
       "Eq(p_31, dt**2*(0.5*dt*p_55 + 0.5*p_35) + dt*(dt*p_53 + p_33 + p_51) + p_31 + q_31)"
      ]
     },
     "execution_count": 36,
     "metadata": {},
     "output_type": "execute_result"
    }
   ],
   "source": [
    "sp.Eq(p31, sp.collect(P[2,0], dt)) # p31"
   ]
  },
  {
   "cell_type": "code",
   "execution_count": 37,
   "id": "0f2a8496-dad1-47c1-9a0e-c5064147b175",
   "metadata": {},
   "outputs": [
    {
     "data": {
      "text/latex": [
       "$\\displaystyle p_{33} = dt \\left(dt p_{55} + p_{35} + p_{53}\\right) + p_{33} + q_{33}$"
      ],
      "text/plain": [
       "Eq(p_33, dt*(dt*p_55 + p_35 + p_53) + p_33 + q_33)"
      ]
     },
     "execution_count": 37,
     "metadata": {},
     "output_type": "execute_result"
    }
   ],
   "source": [
    "sp.Eq(p33, sp.collect(P[2,2], dt)) # p33"
   ]
  },
  {
   "cell_type": "code",
   "execution_count": 38,
   "id": "01610722-6e34-4f65-8c87-6c4a2078cda6",
   "metadata": {},
   "outputs": [
    {
     "data": {
      "text/latex": [
       "$\\displaystyle p_{35} = dt p_{55} + p_{35} + q_{35}$"
      ],
      "text/plain": [
       "Eq(p_35, dt*p_55 + p_35 + q_35)"
      ]
     },
     "execution_count": 38,
     "metadata": {},
     "output_type": "execute_result"
    }
   ],
   "source": [
    "sp.Eq(p35, sp.collect(P[2,4], dt)) # p35"
   ]
  },
  {
   "cell_type": "code",
   "execution_count": 39,
   "id": "d6438b15-f3c2-4af6-b1d9-7908f9f20c13",
   "metadata": {},
   "outputs": [
    {
     "data": {
      "text/latex": [
       "$\\displaystyle p_{42} = dt^{2} \\cdot \\left(0.5 dt p_{66} + 0.5 p_{46}\\right) + dt \\left(dt p_{64} + p_{44} + p_{62}\\right) + p_{42} + q_{42}$"
      ],
      "text/plain": [
       "Eq(p_42, dt**2*(0.5*dt*p_66 + 0.5*p_46) + dt*(dt*p_64 + p_44 + p_62) + p_42 + q_42)"
      ]
     },
     "execution_count": 39,
     "metadata": {},
     "output_type": "execute_result"
    }
   ],
   "source": [
    "sp.Eq(p42, sp.collect(P[3,1], dt)) # p42"
   ]
  },
  {
   "cell_type": "code",
   "execution_count": 40,
   "id": "271ffeb5-9296-4553-8afd-ad4e5ac9a506",
   "metadata": {},
   "outputs": [
    {
     "data": {
      "text/latex": [
       "$\\displaystyle p_{44} = dt \\left(dt p_{66} + p_{46} + p_{64}\\right) + p_{44} + q_{44}$"
      ],
      "text/plain": [
       "Eq(p_44, dt*(dt*p_66 + p_46 + p_64) + p_44 + q_44)"
      ]
     },
     "execution_count": 40,
     "metadata": {},
     "output_type": "execute_result"
    }
   ],
   "source": [
    "sp.Eq(p44, sp.collect(P[3,3], dt)) # p44"
   ]
  },
  {
   "cell_type": "code",
   "execution_count": 41,
   "id": "c36c7a03-b354-4c19-bec4-84666f30e275",
   "metadata": {},
   "outputs": [
    {
     "data": {
      "text/latex": [
       "$\\displaystyle p_{46} = dt p_{66} + p_{46} + q_{46}$"
      ],
      "text/plain": [
       "Eq(p_46, dt*p_66 + p_46 + q_46)"
      ]
     },
     "execution_count": 41,
     "metadata": {},
     "output_type": "execute_result"
    }
   ],
   "source": [
    "sp.Eq(p46, sp.collect(P[3,5], dt)) # p46"
   ]
  },
  {
   "cell_type": "code",
   "execution_count": 42,
   "id": "4db0b47b-f412-4d8d-b8c5-a39233d93f93",
   "metadata": {},
   "outputs": [
    {
     "data": {
      "text/latex": [
       "$\\displaystyle p_{51} = 0.5 dt^{2} p_{55} + dt p_{53} + p_{51} + q_{51}$"
      ],
      "text/plain": [
       "Eq(p_51, 0.5*dt**2*p_55 + dt*p_53 + p_51 + q_51)"
      ]
     },
     "execution_count": 42,
     "metadata": {},
     "output_type": "execute_result"
    }
   ],
   "source": [
    "sp.Eq(p51, sp.collect(P[4,0], dt)) # p51"
   ]
  },
  {
   "cell_type": "code",
   "execution_count": 43,
   "id": "6c790841-7e3e-4ec7-acb4-128eaf4c25fd",
   "metadata": {},
   "outputs": [
    {
     "data": {
      "text/latex": [
       "$\\displaystyle p_{53} = dt p_{55} + p_{53} + q_{53}$"
      ],
      "text/plain": [
       "Eq(p_53, dt*p_55 + p_53 + q_53)"
      ]
     },
     "execution_count": 43,
     "metadata": {},
     "output_type": "execute_result"
    }
   ],
   "source": [
    "sp.Eq(p53, sp.collect(P[4,2], dt)) # p53"
   ]
  },
  {
   "cell_type": "code",
   "execution_count": 44,
   "id": "02e977d7-2f55-45ae-8173-703f9b072d01",
   "metadata": {},
   "outputs": [
    {
     "data": {
      "text/latex": [
       "$\\displaystyle p_{55} = p_{55} + q_{55}$"
      ],
      "text/plain": [
       "Eq(p_55, p_55 + q_55)"
      ]
     },
     "execution_count": 44,
     "metadata": {},
     "output_type": "execute_result"
    }
   ],
   "source": [
    "sp.Eq(p55, sp.collect(P[4,4], dt)) # p55"
   ]
  },
  {
   "cell_type": "code",
   "execution_count": 45,
   "id": "ada1cd95-ec1d-454c-af3e-328579b029f8",
   "metadata": {},
   "outputs": [
    {
     "data": {
      "text/latex": [
       "$\\displaystyle p_{62} = 0.5 dt^{2} p_{66} + dt p_{64} + p_{62} + q_{62}$"
      ],
      "text/plain": [
       "Eq(p_62, 0.5*dt**2*p_66 + dt*p_64 + p_62 + q_62)"
      ]
     },
     "execution_count": 45,
     "metadata": {},
     "output_type": "execute_result"
    }
   ],
   "source": [
    "sp.Eq(p62, sp.collect(P[5,1], dt)) # p62"
   ]
  },
  {
   "cell_type": "code",
   "execution_count": 46,
   "id": "43bee9f5-5cea-4816-b235-d1cae8627a87",
   "metadata": {},
   "outputs": [
    {
     "data": {
      "text/latex": [
       "$\\displaystyle p_{64} = dt p_{66} + p_{64} + q_{64}$"
      ],
      "text/plain": [
       "Eq(p_64, dt*p_66 + p_64 + q_64)"
      ]
     },
     "execution_count": 46,
     "metadata": {},
     "output_type": "execute_result"
    }
   ],
   "source": [
    "sp.Eq(p64, sp.collect(P[5,3], dt)) # p64"
   ]
  },
  {
   "cell_type": "code",
   "execution_count": 47,
   "id": "ae0cd509-95d0-4511-9700-005511c721a4",
   "metadata": {},
   "outputs": [
    {
     "data": {
      "text/latex": [
       "$\\displaystyle p_{66} = p_{66} + q_{66}$"
      ],
      "text/plain": [
       "Eq(p_66, p_66 + q_66)"
      ]
     },
     "execution_count": 47,
     "metadata": {},
     "output_type": "execute_result"
    }
   ],
   "source": [
    "sp.Eq(p66, sp.collect(P[5,5], dt)) # p66"
   ]
  },
  {
   "cell_type": "code",
   "execution_count": 48,
   "id": "8160af8a-6c6b-477d-93eb-0eec914f8071",
   "metadata": {},
   "outputs": [
    {
     "data": {
      "text/latex": [
       "$\\displaystyle \\left[\\begin{matrix}x\\\\y\\\\V_{x}\\\\V_{y}\\\\a_{x}\\\\a_{y}\\end{matrix}\\right]$"
      ],
      "text/plain": [
       "Matrix([\n",
       "[  x],\n",
       "[  y],\n",
       "[V_x],\n",
       "[V_y],\n",
       "[a_x],\n",
       "[a_y]])"
      ]
     },
     "execution_count": 48,
     "metadata": {},
     "output_type": "execute_result"
    }
   ],
   "source": [
    "X = sp.Matrix([[  x  ],\n",
    "               [  y  ],\n",
    "               [ v_x ],\n",
    "               [ v_y ],\n",
    "               [ a_x ],\n",
    "               [ a_y ]])\n",
    "X"
   ]
  },
  {
   "cell_type": "code",
   "execution_count": 49,
   "id": "6f8d46a0-1e0a-447b-b8db-2cd4a451123e",
   "metadata": {},
   "outputs": [
    {
     "data": {
      "text/latex": [
       "$\\displaystyle \\left[\\begin{matrix}p_{11} & 0 & p_{13} & 0 & p_{15} & 0\\\\0 & p_{22} & 0 & p_{24} & 0 & p_{26}\\\\p_{31} & 0 & p_{33} & 0 & p_{35} & 0\\\\0 & p_{42} & 0 & p_{44} & 0 & p_{46}\\\\p_{51} & 0 & p_{53} & 0 & p_{55} & 0\\\\0 & p_{62} & 0 & p_{64} & 0 & p_{66}\\end{matrix}\\right]$"
      ],
      "text/plain": [
       "Matrix([\n",
       "[p_11,    0, p_13,    0, p_15,    0],\n",
       "[   0, p_22,    0, p_24,    0, p_26],\n",
       "[p_31,    0, p_33,    0, p_35,    0],\n",
       "[   0, p_42,    0, p_44,    0, p_46],\n",
       "[p_51,    0, p_53,    0, p_55,    0],\n",
       "[   0, p_62,    0, p_64,    0, p_66]])"
      ]
     },
     "execution_count": 49,
     "metadata": {},
     "output_type": "execute_result"
    }
   ],
   "source": [
    "P = sp.Matrix([[ p11,   0, p13,   0, p15,   0 ],\n",
    "               [   0, p22,   0, p24,   0, p26 ],\n",
    "               [ p31,   0, p33,   0, p35,   0 ],\n",
    "               [   0, p42,   0, p44,   0, p46 ],\n",
    "               [ p51,   0, p53,   0, p55,   0 ],\n",
    "               [   0, p62,   0, p64,   0, p66 ]])\n",
    "P"
   ]
  },
  {
   "cell_type": "markdown",
   "id": "b34d195f-bb7f-4256-a53e-da15ab0f044a",
   "metadata": {},
   "source": [
    "# Корректировка полученного замера"
   ]
  },
  {
   "cell_type": "code",
   "execution_count": 50,
   "id": "2717a4e6-e265-4ca5-9b9d-2db7f2877dee",
   "metadata": {},
   "outputs": [
    {
     "data": {
      "text/latex": [
       "$\\displaystyle \\left[\\begin{matrix}- x + x_{meas}\\\\- y + y_{meas}\\end{matrix}\\right]$"
      ],
      "text/plain": [
       "Matrix([\n",
       "[-x + x_meas],\n",
       "[-y + y_meas]])"
      ]
     },
     "execution_count": 50,
     "metadata": {},
     "output_type": "execute_result"
    }
   ],
   "source": [
    "Y = Z - (H @ X)\n",
    "Y"
   ]
  },
  {
   "cell_type": "code",
   "execution_count": 51,
   "id": "4994dc91-3c76-4b90-98fb-9fcd747a590a",
   "metadata": {},
   "outputs": [
    {
     "data": {
      "text/latex": [
       "$\\displaystyle \\left[\\begin{matrix}p_{11} + r_{x} & 0\\\\0 & p_{22} + r_{x}\\end{matrix}\\right]$"
      ],
      "text/plain": [
       "Matrix([\n",
       "[p_11 + r_x,          0],\n",
       "[         0, p_22 + r_x]])"
      ]
     },
     "execution_count": 51,
     "metadata": {},
     "output_type": "execute_result"
    }
   ],
   "source": [
    "S = (H @ P @ H.T) + R\n",
    "S"
   ]
  },
  {
   "cell_type": "code",
   "execution_count": 52,
   "id": "64dc6582-c2c0-4249-9db8-4bfbae54ee0e",
   "metadata": {},
   "outputs": [
    {
     "data": {
      "text/latex": [
       "$\\displaystyle \\left[\\begin{matrix}\\frac{p_{11}}{p_{11} + r_{x}} & 0\\\\0 & \\frac{p_{22}}{p_{22} + r_{x}}\\\\\\frac{p_{31}}{p_{11} + r_{x}} & 0\\\\0 & \\frac{p_{42}}{p_{22} + r_{x}}\\\\\\frac{p_{51}}{p_{11} + r_{x}} & 0\\\\0 & \\frac{p_{62}}{p_{22} + r_{x}}\\end{matrix}\\right]$"
      ],
      "text/plain": [
       "Matrix([\n",
       "[p_11/(p_11 + r_x),                 0],\n",
       "[                0, p_22/(p_22 + r_x)],\n",
       "[p_31/(p_11 + r_x),                 0],\n",
       "[                0, p_42/(p_22 + r_x)],\n",
       "[p_51/(p_11 + r_x),                 0],\n",
       "[                0, p_62/(p_22 + r_x)]])"
      ]
     },
     "execution_count": 52,
     "metadata": {},
     "output_type": "execute_result"
    }
   ],
   "source": [
    "K = P @ H.T @ S.inv()\n",
    "K"
   ]
  },
  {
   "cell_type": "code",
   "execution_count": 53,
   "id": "33e0a735-5507-41d0-abd7-6cf6fa42e801",
   "metadata": {},
   "outputs": [
    {
     "data": {
      "text/latex": [
       "$\\displaystyle k_{11} = \\frac{p_{11}}{p_{11} + r_{x}}$"
      ],
      "text/plain": [
       "Eq(k_11, p_11/(p_11 + r_x))"
      ]
     },
     "execution_count": 53,
     "metadata": {},
     "output_type": "execute_result"
    }
   ],
   "source": [
    "sp.Eq(k11, K[0,0])"
   ]
  },
  {
   "cell_type": "code",
   "execution_count": 54,
   "id": "c46bf78f-a746-41ea-b7bb-c3d597b2dff4",
   "metadata": {},
   "outputs": [
    {
     "data": {
      "text/latex": [
       "$\\displaystyle k_{22} = \\frac{p_{22}}{p_{22} + r_{x}}$"
      ],
      "text/plain": [
       "Eq(k_22, p_22/(p_22 + r_x))"
      ]
     },
     "execution_count": 54,
     "metadata": {},
     "output_type": "execute_result"
    }
   ],
   "source": [
    "sp.Eq(k22, K[1,1])"
   ]
  },
  {
   "cell_type": "code",
   "execution_count": 55,
   "id": "66fe1aa2-4989-4f0b-b2ab-404bfaaab54a",
   "metadata": {},
   "outputs": [
    {
     "data": {
      "text/latex": [
       "$\\displaystyle k_{31} = \\frac{p_{31}}{p_{11} + r_{x}}$"
      ],
      "text/plain": [
       "Eq(k_31, p_31/(p_11 + r_x))"
      ]
     },
     "execution_count": 55,
     "metadata": {},
     "output_type": "execute_result"
    }
   ],
   "source": [
    "sp.Eq(k31, K[2,0])"
   ]
  },
  {
   "cell_type": "code",
   "execution_count": 56,
   "id": "286908a1-18a7-4d43-bf07-a5fed7728ff6",
   "metadata": {},
   "outputs": [
    {
     "data": {
      "text/latex": [
       "$\\displaystyle k_{42} = \\frac{p_{42}}{p_{22} + r_{x}}$"
      ],
      "text/plain": [
       "Eq(k_42, p_42/(p_22 + r_x))"
      ]
     },
     "execution_count": 56,
     "metadata": {},
     "output_type": "execute_result"
    }
   ],
   "source": [
    "sp.Eq(k42, K[3,1])"
   ]
  },
  {
   "cell_type": "code",
   "execution_count": 57,
   "id": "b8982970-deed-4a21-b9a2-375f4513c7f7",
   "metadata": {},
   "outputs": [
    {
     "data": {
      "text/latex": [
       "$\\displaystyle k_{51} = \\frac{p_{51}}{p_{11} + r_{x}}$"
      ],
      "text/plain": [
       "Eq(k_51, p_51/(p_11 + r_x))"
      ]
     },
     "execution_count": 57,
     "metadata": {},
     "output_type": "execute_result"
    }
   ],
   "source": [
    "sp.Eq(k51, K[4,0])"
   ]
  },
  {
   "cell_type": "code",
   "execution_count": 58,
   "id": "f93245db-0380-47c8-ab52-94ff4be1dea9",
   "metadata": {},
   "outputs": [
    {
     "data": {
      "text/latex": [
       "$\\displaystyle k_{62} = \\frac{p_{62}}{p_{22} + r_{x}}$"
      ],
      "text/plain": [
       "Eq(k_62, p_62/(p_22 + r_x))"
      ]
     },
     "execution_count": 58,
     "metadata": {},
     "output_type": "execute_result"
    }
   ],
   "source": [
    "sp.Eq(k62, K[5,1])"
   ]
  },
  {
   "cell_type": "code",
   "execution_count": 59,
   "id": "1008425a-e7a7-4eba-97ca-264adacf7329",
   "metadata": {},
   "outputs": [
    {
     "data": {
      "text/latex": [
       "$\\displaystyle \\left[\\begin{matrix}k_{11} & 0\\\\0 & k_{22}\\\\k_{31} & 0\\\\0 & k_{42}\\\\k_{51} & 0\\\\0 & k_{62}\\end{matrix}\\right]$"
      ],
      "text/plain": [
       "Matrix([\n",
       "[k_11,    0],\n",
       "[   0, k_22],\n",
       "[k_31,    0],\n",
       "[   0, k_42],\n",
       "[k_51,    0],\n",
       "[   0, k_62]])"
      ]
     },
     "execution_count": 59,
     "metadata": {},
     "output_type": "execute_result"
    }
   ],
   "source": [
    "K = sp.Matrix([[k11, 0],\n",
    "               [0, k22],\n",
    "               [k31, 0],\n",
    "               [0, k42],\n",
    "               [k51, 0],\n",
    "               [0, k62]])\n",
    "K"
   ]
  },
  {
   "cell_type": "code",
   "execution_count": 60,
   "id": "8d257d2e-a78c-4198-96af-78f2b3dd7d22",
   "metadata": {},
   "outputs": [
    {
     "data": {
      "text/latex": [
       "$\\displaystyle \\left[\\begin{matrix}k_{11} \\left(- x + x_{meas}\\right) + x\\\\k_{22} \\left(- y + y_{meas}\\right) + y\\\\V_{x} + k_{31} \\left(- x + x_{meas}\\right)\\\\V_{y} + k_{42} \\left(- y + y_{meas}\\right)\\\\a_{x} + k_{51} \\left(- x + x_{meas}\\right)\\\\a_{y} + k_{62} \\left(- y + y_{meas}\\right)\\end{matrix}\\right]$"
      ],
      "text/plain": [
       "Matrix([\n",
       "[  k_11*(-x + x_meas) + x],\n",
       "[  k_22*(-y + y_meas) + y],\n",
       "[V_x + k_31*(-x + x_meas)],\n",
       "[V_y + k_42*(-y + y_meas)],\n",
       "[a_x + k_51*(-x + x_meas)],\n",
       "[a_y + k_62*(-y + y_meas)]])"
      ]
     },
     "execution_count": 60,
     "metadata": {},
     "output_type": "execute_result"
    }
   ],
   "source": [
    "X = X + (K @ Y)\n",
    "X"
   ]
  },
  {
   "cell_type": "code",
   "execution_count": 61,
   "id": "0ac3814f-21d8-4e39-b5c8-8b37847a0729",
   "metadata": {},
   "outputs": [
    {
     "data": {
      "text/latex": [
       "$\\displaystyle x = k_{11} \\left(- x + x_{meas}\\right) + x$"
      ],
      "text/plain": [
       "Eq(x, k_11*(-x + x_meas) + x)"
      ]
     },
     "execution_count": 61,
     "metadata": {},
     "output_type": "execute_result"
    }
   ],
   "source": [
    "sp.Eq(x, X[0,0])"
   ]
  },
  {
   "cell_type": "code",
   "execution_count": 62,
   "id": "55b03ba3-b543-4a21-88ad-e40e76378928",
   "metadata": {},
   "outputs": [
    {
     "data": {
      "text/latex": [
       "$\\displaystyle y = k_{22} \\left(- y + y_{meas}\\right) + y$"
      ],
      "text/plain": [
       "Eq(y, k_22*(-y + y_meas) + y)"
      ]
     },
     "execution_count": 62,
     "metadata": {},
     "output_type": "execute_result"
    }
   ],
   "source": [
    "sp.Eq(y, X[1,0])"
   ]
  },
  {
   "cell_type": "code",
   "execution_count": 63,
   "id": "44b1a523-9b4c-43e1-986c-caff3d96f292",
   "metadata": {},
   "outputs": [
    {
     "data": {
      "text/latex": [
       "$\\displaystyle V_{x} = V_{x} + k_{31} \\left(- x + x_{meas}\\right)$"
      ],
      "text/plain": [
       "Eq(V_x, V_x + k_31*(-x + x_meas))"
      ]
     },
     "execution_count": 63,
     "metadata": {},
     "output_type": "execute_result"
    }
   ],
   "source": [
    "sp.Eq(v_x, X[2,0])"
   ]
  },
  {
   "cell_type": "code",
   "execution_count": 64,
   "id": "7215c8ab-b065-4f27-971a-d4a3ae8f1c03",
   "metadata": {},
   "outputs": [
    {
     "data": {
      "text/latex": [
       "$\\displaystyle V_{y} = V_{y} + k_{42} \\left(- y + y_{meas}\\right)$"
      ],
      "text/plain": [
       "Eq(V_y, V_y + k_42*(-y + y_meas))"
      ]
     },
     "execution_count": 64,
     "metadata": {},
     "output_type": "execute_result"
    }
   ],
   "source": [
    "sp.Eq(v_y, X[3,0])"
   ]
  },
  {
   "cell_type": "code",
   "execution_count": 65,
   "id": "8dcc6ae9-771a-4759-8cd5-c3a42ee5269a",
   "metadata": {},
   "outputs": [
    {
     "data": {
      "text/latex": [
       "$\\displaystyle a_{x} = a_{x} + k_{51} \\left(- x + x_{meas}\\right)$"
      ],
      "text/plain": [
       "Eq(a_x, a_x + k_51*(-x + x_meas))"
      ]
     },
     "execution_count": 65,
     "metadata": {},
     "output_type": "execute_result"
    }
   ],
   "source": [
    "sp.Eq(a_x, X[4,0])"
   ]
  },
  {
   "cell_type": "code",
   "execution_count": 66,
   "id": "530b1e67-e58a-468d-a3c2-d933deb52570",
   "metadata": {},
   "outputs": [
    {
     "data": {
      "text/latex": [
       "$\\displaystyle a_{y} = a_{y} + k_{62} \\left(- y + y_{meas}\\right)$"
      ],
      "text/plain": [
       "Eq(a_y, a_y + k_62*(-y + y_meas))"
      ]
     },
     "execution_count": 66,
     "metadata": {},
     "output_type": "execute_result"
    }
   ],
   "source": [
    "sp.Eq(a_y, X[5,0])"
   ]
  },
  {
   "cell_type": "code",
   "execution_count": 67,
   "id": "049ec3d4-7ad6-4c67-97e9-f98830762f75",
   "metadata": {},
   "outputs": [
    {
     "data": {
      "text/latex": [
       "$\\displaystyle \\left[\\begin{matrix}p_{11} \\cdot \\left(1 - k_{11}\\right) & 0 & p_{13} \\cdot \\left(1 - k_{11}\\right) & 0 & p_{15} \\cdot \\left(1 - k_{11}\\right) & 0\\\\0 & p_{22} \\cdot \\left(1 - k_{22}\\right) & 0 & p_{24} \\cdot \\left(1 - k_{22}\\right) & 0 & p_{26} \\cdot \\left(1 - k_{22}\\right)\\\\- k_{31} p_{11} + p_{31} & 0 & - k_{31} p_{13} + p_{33} & 0 & - k_{31} p_{15} + p_{35} & 0\\\\0 & - k_{42} p_{22} + p_{42} & 0 & - k_{42} p_{24} + p_{44} & 0 & - k_{42} p_{26} + p_{46}\\\\- k_{51} p_{11} + p_{51} & 0 & - k_{51} p_{13} + p_{53} & 0 & - k_{51} p_{15} + p_{55} & 0\\\\0 & - k_{62} p_{22} + p_{62} & 0 & - k_{62} p_{24} + p_{64} & 0 & - k_{62} p_{26} + p_{66}\\end{matrix}\\right]$"
      ],
      "text/plain": [
       "Matrix([\n",
       "[  p_11*(1 - k_11),                 0,   p_13*(1 - k_11),                 0,   p_15*(1 - k_11),                 0],\n",
       "[                0,   p_22*(1 - k_22),                 0,   p_24*(1 - k_22),                 0,   p_26*(1 - k_22)],\n",
       "[-k_31*p_11 + p_31,                 0, -k_31*p_13 + p_33,                 0, -k_31*p_15 + p_35,                 0],\n",
       "[                0, -k_42*p_22 + p_42,                 0, -k_42*p_24 + p_44,                 0, -k_42*p_26 + p_46],\n",
       "[-k_51*p_11 + p_51,                 0, -k_51*p_13 + p_53,                 0, -k_51*p_15 + p_55,                 0],\n",
       "[                0, -k_62*p_22 + p_62,                 0, -k_62*p_24 + p_64,                 0, -k_62*p_26 + p_66]])"
      ]
     },
     "execution_count": 67,
     "metadata": {},
     "output_type": "execute_result"
    }
   ],
   "source": [
    "P = (I - (K @ H)) @ P\n",
    "P"
   ]
  },
  {
   "cell_type": "code",
   "execution_count": 68,
   "id": "d82ba0d0-81f8-45e7-a90a-34fbae0788f9",
   "metadata": {},
   "outputs": [
    {
     "data": {
      "text/latex": [
       "$\\displaystyle p_{11} = p_{11} \\cdot \\left(1 - k_{11}\\right)$"
      ],
      "text/plain": [
       "Eq(p_11, p_11*(1 - k_11))"
      ]
     },
     "execution_count": 68,
     "metadata": {},
     "output_type": "execute_result"
    }
   ],
   "source": [
    "sp.Eq(p11, P[0,0])"
   ]
  },
  {
   "cell_type": "code",
   "execution_count": 69,
   "id": "6a04efec-0b24-4688-a1f4-886f29c7faae",
   "metadata": {},
   "outputs": [
    {
     "data": {
      "text/latex": [
       "$\\displaystyle p_{13} = p_{13} \\cdot \\left(1 - k_{11}\\right)$"
      ],
      "text/plain": [
       "Eq(p_13, p_13*(1 - k_11))"
      ]
     },
     "execution_count": 69,
     "metadata": {},
     "output_type": "execute_result"
    }
   ],
   "source": [
    "sp.Eq(p13, P[0,2])"
   ]
  },
  {
   "cell_type": "code",
   "execution_count": 70,
   "id": "c674dea7-7d49-4c47-af33-a2e7166719f1",
   "metadata": {},
   "outputs": [
    {
     "data": {
      "text/latex": [
       "$\\displaystyle p_{15} = p_{15} \\cdot \\left(1 - k_{11}\\right)$"
      ],
      "text/plain": [
       "Eq(p_15, p_15*(1 - k_11))"
      ]
     },
     "execution_count": 70,
     "metadata": {},
     "output_type": "execute_result"
    }
   ],
   "source": [
    "sp.Eq(p15, P[0,4])"
   ]
  },
  {
   "cell_type": "code",
   "execution_count": 71,
   "id": "883b0172-612b-4f52-9f2e-c97e295c6539",
   "metadata": {},
   "outputs": [
    {
     "data": {
      "text/latex": [
       "$\\displaystyle p_{22} = p_{22} \\cdot \\left(1 - k_{22}\\right)$"
      ],
      "text/plain": [
       "Eq(p_22, p_22*(1 - k_22))"
      ]
     },
     "execution_count": 71,
     "metadata": {},
     "output_type": "execute_result"
    }
   ],
   "source": [
    "sp.Eq(p22, P[1,1])"
   ]
  },
  {
   "cell_type": "code",
   "execution_count": 72,
   "id": "d92b448c-2e16-4cf2-b873-fc46b51ff9b1",
   "metadata": {},
   "outputs": [
    {
     "data": {
      "text/latex": [
       "$\\displaystyle p_{24} = p_{24} \\cdot \\left(1 - k_{22}\\right)$"
      ],
      "text/plain": [
       "Eq(p_24, p_24*(1 - k_22))"
      ]
     },
     "execution_count": 72,
     "metadata": {},
     "output_type": "execute_result"
    }
   ],
   "source": [
    "sp.Eq(p24, P[1,3])"
   ]
  },
  {
   "cell_type": "code",
   "execution_count": 73,
   "id": "129ea202-d65c-43dd-86d8-52c3c29d15d0",
   "metadata": {},
   "outputs": [
    {
     "data": {
      "text/latex": [
       "$\\displaystyle p_{26} = p_{26} \\cdot \\left(1 - k_{22}\\right)$"
      ],
      "text/plain": [
       "Eq(p_26, p_26*(1 - k_22))"
      ]
     },
     "execution_count": 73,
     "metadata": {},
     "output_type": "execute_result"
    }
   ],
   "source": [
    "sp.Eq(p26, P[1,5])"
   ]
  },
  {
   "cell_type": "code",
   "execution_count": 74,
   "id": "d256940f-61b1-4cbe-91e7-2664ea6639a6",
   "metadata": {},
   "outputs": [
    {
     "data": {
      "text/latex": [
       "$\\displaystyle p_{31} = - k_{31} p_{11} + p_{31}$"
      ],
      "text/plain": [
       "Eq(p_31, -k_31*p_11 + p_31)"
      ]
     },
     "execution_count": 74,
     "metadata": {},
     "output_type": "execute_result"
    }
   ],
   "source": [
    "sp.Eq(p31, P[2,0])"
   ]
  },
  {
   "cell_type": "code",
   "execution_count": 75,
   "id": "ff7a3e97-6523-41d2-b469-484ad606ccf8",
   "metadata": {},
   "outputs": [
    {
     "data": {
      "text/latex": [
       "$\\displaystyle p_{33} = - k_{31} p_{13} + p_{33}$"
      ],
      "text/plain": [
       "Eq(p_33, -k_31*p_13 + p_33)"
      ]
     },
     "execution_count": 75,
     "metadata": {},
     "output_type": "execute_result"
    }
   ],
   "source": [
    "sp.Eq(p33, P[2,2])"
   ]
  },
  {
   "cell_type": "code",
   "execution_count": 76,
   "id": "043333ae-9a65-4e39-ae19-267a46446883",
   "metadata": {},
   "outputs": [
    {
     "data": {
      "text/latex": [
       "$\\displaystyle p_{35} = - k_{31} p_{15} + p_{35}$"
      ],
      "text/plain": [
       "Eq(p_35, -k_31*p_15 + p_35)"
      ]
     },
     "execution_count": 76,
     "metadata": {},
     "output_type": "execute_result"
    }
   ],
   "source": [
    "sp.Eq(p35, P[2,4])"
   ]
  },
  {
   "cell_type": "code",
   "execution_count": 77,
   "id": "cc1dd0ac-084c-4dde-ba2a-dd5cc0f7e139",
   "metadata": {},
   "outputs": [
    {
     "data": {
      "text/latex": [
       "$\\displaystyle p_{42} = - k_{42} p_{22} + p_{42}$"
      ],
      "text/plain": [
       "Eq(p_42, -k_42*p_22 + p_42)"
      ]
     },
     "execution_count": 77,
     "metadata": {},
     "output_type": "execute_result"
    }
   ],
   "source": [
    "sp.Eq(p42, P[3,1])"
   ]
  },
  {
   "cell_type": "code",
   "execution_count": 78,
   "id": "c2405904-33c0-44b1-8ee1-d5ee5cdcbfd5",
   "metadata": {},
   "outputs": [
    {
     "data": {
      "text/latex": [
       "$\\displaystyle p_{44} = - k_{42} p_{24} + p_{44}$"
      ],
      "text/plain": [
       "Eq(p_44, -k_42*p_24 + p_44)"
      ]
     },
     "execution_count": 78,
     "metadata": {},
     "output_type": "execute_result"
    }
   ],
   "source": [
    "sp.Eq(p44, P[3,3])"
   ]
  },
  {
   "cell_type": "code",
   "execution_count": 79,
   "id": "5d46cd19-bc86-4471-8946-db04c51fa7ae",
   "metadata": {},
   "outputs": [
    {
     "data": {
      "text/latex": [
       "$\\displaystyle p_{46} = - k_{42} p_{26} + p_{46}$"
      ],
      "text/plain": [
       "Eq(p_46, -k_42*p_26 + p_46)"
      ]
     },
     "execution_count": 79,
     "metadata": {},
     "output_type": "execute_result"
    }
   ],
   "source": [
    "sp.Eq(p46, P[3,5])"
   ]
  },
  {
   "cell_type": "code",
   "execution_count": 80,
   "id": "56da11e3-057f-4aaf-b1d8-526b9f3700fc",
   "metadata": {},
   "outputs": [
    {
     "data": {
      "text/latex": [
       "$\\displaystyle p_{51} = - k_{51} p_{11} + p_{51}$"
      ],
      "text/plain": [
       "Eq(p_51, -k_51*p_11 + p_51)"
      ]
     },
     "execution_count": 80,
     "metadata": {},
     "output_type": "execute_result"
    }
   ],
   "source": [
    "sp.Eq(p51, P[4,0])"
   ]
  },
  {
   "cell_type": "code",
   "execution_count": 81,
   "id": "67c580fe-92f0-4224-946d-49a7d6ed6556",
   "metadata": {},
   "outputs": [
    {
     "data": {
      "text/latex": [
       "$\\displaystyle p_{53} = - k_{51} p_{13} + p_{53}$"
      ],
      "text/plain": [
       "Eq(p_53, -k_51*p_13 + p_53)"
      ]
     },
     "execution_count": 81,
     "metadata": {},
     "output_type": "execute_result"
    }
   ],
   "source": [
    "sp.Eq(p53, P[4,2])"
   ]
  },
  {
   "cell_type": "code",
   "execution_count": 82,
   "id": "7c0301d7-0164-4ca0-babb-8d9711fa27b6",
   "metadata": {},
   "outputs": [
    {
     "data": {
      "text/latex": [
       "$\\displaystyle p_{55} = - k_{51} p_{15} + p_{55}$"
      ],
      "text/plain": [
       "Eq(p_55, -k_51*p_15 + p_55)"
      ]
     },
     "execution_count": 82,
     "metadata": {},
     "output_type": "execute_result"
    }
   ],
   "source": [
    "sp.Eq(p55, P[4,4])"
   ]
  },
  {
   "cell_type": "code",
   "execution_count": 83,
   "id": "cafa6a70-0405-417d-a4c4-b43cc7f62ec0",
   "metadata": {},
   "outputs": [
    {
     "data": {
      "text/latex": [
       "$\\displaystyle p_{62} = - k_{62} p_{22} + p_{62}$"
      ],
      "text/plain": [
       "Eq(p_62, -k_62*p_22 + p_62)"
      ]
     },
     "execution_count": 83,
     "metadata": {},
     "output_type": "execute_result"
    }
   ],
   "source": [
    "sp.Eq(p62, P[5,1])"
   ]
  },
  {
   "cell_type": "code",
   "execution_count": 84,
   "id": "73a26e21-3134-4900-8bf9-ffbc30d0fa6f",
   "metadata": {},
   "outputs": [
    {
     "data": {
      "text/latex": [
       "$\\displaystyle p_{64} = - k_{62} p_{24} + p_{64}$"
      ],
      "text/plain": [
       "Eq(p_64, -k_62*p_24 + p_64)"
      ]
     },
     "execution_count": 84,
     "metadata": {},
     "output_type": "execute_result"
    }
   ],
   "source": [
    "sp.Eq(p64, P[5,3])"
   ]
  },
  {
   "cell_type": "code",
   "execution_count": 85,
   "id": "1f3e4e8d-ca1c-45b6-b0b2-bf58f17ab8d4",
   "metadata": {},
   "outputs": [
    {
     "data": {
      "text/latex": [
       "$\\displaystyle p_{66} = - k_{62} p_{26} + p_{66}$"
      ],
      "text/plain": [
       "Eq(p_66, -k_62*p_26 + p_66)"
      ]
     },
     "execution_count": 85,
     "metadata": {},
     "output_type": "execute_result"
    }
   ],
   "source": [
    "sp.Eq(p66, P[5,5])"
   ]
  },
  {
   "cell_type": "code",
   "execution_count": null,
   "id": "afe4d98c-6b9c-4425-8c1d-ee34f2a18b6d",
   "metadata": {},
   "outputs": [],
   "source": []
  }
 ],
 "metadata": {
  "kernelspec": {
   "display_name": "Python 3 (ipykernel)",
   "language": "python",
   "name": "python3"
  },
  "language_info": {
   "codemirror_mode": {
    "name": "ipython",
    "version": 3
   },
   "file_extension": ".py",
   "mimetype": "text/x-python",
   "name": "python",
   "nbconvert_exporter": "python",
   "pygments_lexer": "ipython3",
   "version": "3.10.12"
  }
 },
 "nbformat": 4,
 "nbformat_minor": 5
}
